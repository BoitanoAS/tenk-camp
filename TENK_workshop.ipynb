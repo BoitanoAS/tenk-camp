{
 "cells": [
  {
   "cell_type": "markdown",
   "id": "6fb6f09c",
   "metadata": {},
   "source": [
    "# DEL 1 - Introduksjon til Python"
   ]
  },
  {
   "cell_type": "markdown",
   "id": "238fd89d",
   "metadata": {},
   "source": [
    "### Data Typer og variabler"
   ]
  },
  {
   "cell_type": "markdown",
   "id": "045b19bd",
   "metadata": {},
   "source": [
    "#### Oppgave 1: Skriv ut en melding"
   ]
  },
  {
   "cell_type": "markdown",
   "id": "4cc23b99",
   "metadata": {},
   "source": [
    "Vi kan bruke `print` for å skrive ut meldinger til konsollen. Klikk på ruten under og trykk `Run`."
   ]
  },
  {
   "cell_type": "code",
   "execution_count": null,
   "id": "675a31ea",
   "metadata": {},
   "outputs": [],
   "source": [
    "print('Velkommen til workshop med Boitano')"
   ]
  },
  {
   "cell_type": "markdown",
   "id": "7763617d",
   "metadata": {},
   "source": [
    "#### Oppgave 2: Lag variabler og finn riktig data type "
   ]
  },
  {
   "cell_type": "markdown",
   "id": "bcba7974",
   "metadata": {},
   "source": [
    "Data typer sier noe om hva slags data vi skal lagre. Når vi lagrer bokstaver og ord må disse være i fnutter `''` og kalles en `string`. Vi kan også lagre heltall `int` og desimaltall `float`. I tillegg har vi `bool` verdier. Disse er enten `True` eller `False`.  "
   ]
  },
  {
   "cell_type": "code",
   "execution_count": null,
   "id": "77a0ac92",
   "metadata": {},
   "outputs": [],
   "source": [
    "heltall = 2 \n",
    "desimaltall = 2.5 \n",
    "tekst = 'Dette er en tekst'\n",
    "boolean = True"
   ]
  },
  {
   "cell_type": "markdown",
   "id": "2428b8a4",
   "metadata": {},
   "source": [
    "Vi bruker variabler for å lagre data. En variabel er noe som varierer, for eksempel navn og alder.\n",
    "\n",
    "*Lag en variabel `navn` og `alder` og print de ut til konsollen. Hvilken datatype burde disse ha?*"
   ]
  },
  {
   "cell_type": "code",
   "execution_count": null,
   "id": "4624c445",
   "metadata": {},
   "outputs": [],
   "source": [
    "navn = \n",
    "alder = \n",
    "\n",
    "print(navn)\n",
    "print(alder)"
   ]
  },
  {
   "cell_type": "markdown",
   "id": "eba4e7a8",
   "metadata": {},
   "source": [
    "#### Oppgave 3: Lag en dictionary som består av navn og alder"
   ]
  },
  {
   "cell_type": "markdown",
   "id": "d9709464",
   "metadata": {},
   "source": [
    "Vi kan sette sammen flere data typer for å lage en `dictionary`. For eksempel kan vi ha en `bedrift` som har både et navn og et kontor. "
   ]
  },
  {
   "cell_type": "code",
   "execution_count": null,
   "id": "6ff5a3f3",
   "metadata": {},
   "outputs": [],
   "source": [
    "bedrift = {\n",
    "    \"navn\": \"Boitano\",\n",
    "    \"kontor\": \"Stavanger\" \n",
    "}\n",
    "\n",
    "print(bedrift)"
   ]
  },
  {
   "cell_type": "markdown",
   "id": "423a9a8e",
   "metadata": {},
   "source": [
    "*Lag en dictionary som heter `person` og inneholder informasjon om ditt navn, alder og skole. Print person til konsollen*"
   ]
  },
  {
   "cell_type": "code",
   "execution_count": null,
   "id": "2e95ed9d",
   "metadata": {},
   "outputs": [],
   "source": [
    "# Skriv koden din her "
   ]
  },
  {
   "cell_type": "markdown",
   "id": "7019c650",
   "metadata": {},
   "source": [
    "#### Oppgave 3: Regn med variabler"
   ]
  },
  {
   "cell_type": "markdown",
   "id": "684e3946",
   "metadata": {},
   "source": [
    "Når vi har flere variabler, kan vi gjøre ulike operasjoner på de. For eksempel legge de sammen, trekke de fra hverandre, multiplisere og dele. Bruk variablene `x` og `y` til å fylle ut trykkene under "
   ]
  },
  {
   "cell_type": "code",
   "execution_count": null,
   "id": "0871f41e",
   "metadata": {},
   "outputs": [],
   "source": [
    "x = 2\n",
    "y = 3\n",
    "\n",
    "sum = \n",
    "differanse = \n",
    "produkt = \n",
    "kvotient = \n",
    "\n",
    "print(f'Summen av {x} og {y}: {sum}')\n",
    "print(f'Differansen av {x} og {y}: {differanse}')\n",
    "print(f'Produktet av {x} og {y}: {produkt}')\n",
    "print(f'Kvotien av {x} og {y}: {kvotient}')"
   ]
  },
  {
   "cell_type": "markdown",
   "id": "0da73991",
   "metadata": {},
   "source": [
    "#### Oppgave 4: Lag en liste"
   ]
  },
  {
   "cell_type": "markdown",
   "id": "d11330a1",
   "metadata": {},
   "source": [
    "Vi kan også lage en liste med data. Dette gjør vi med å bruke klammeparanteser `frukt = ['epler', 'pærer', 'banan']`.\\\n",
    "Lag en liste med navn og print den under. "
   ]
  },
  {
   "cell_type": "code",
   "execution_count": null,
   "id": "3cdd7bd0",
   "metadata": {},
   "outputs": [],
   "source": [
    "# Skriv koden din her "
   ]
  },
  {
   "cell_type": "markdown",
   "id": "baa41113",
   "metadata": {},
   "source": [
    "### Løkker og betingelser "
   ]
  },
  {
   "cell_type": "markdown",
   "id": "7af2ad08",
   "metadata": {},
   "source": [
    "En `for`-løkke gjør noe om og om igjen. Hvis vi har en liste med tall kan vi for eksempel printe alle tallene i lista.\n",
    "\n",
    "#### Oppgave 5: Print alle tallene i lista"
   ]
  },
  {
   "cell_type": "code",
   "execution_count": 8,
   "id": "6c1b3c57",
   "metadata": {},
   "outputs": [
    {
     "name": "stdout",
     "output_type": "stream",
     "text": [
      "54\n",
      "23\n",
      "5\n",
      "98\n",
      "34\n",
      "66\n",
      "17\n",
      "93\n",
      "9\n",
      "30\n"
     ]
    }
   ],
   "source": [
    "tall_liste = [54, 23, 5, 98, 34, 66, 17, 93, 9, 30]\n",
    "\n",
    "for tall in tall_liste: \n",
    "    print(tall)"
   ]
  },
  {
   "cell_type": "markdown",
   "id": "413712c5",
   "metadata": {},
   "source": [
    "En betingelse betyr at datamaskinen gjør en handling dersom en betingelse er oppfylt. Du kan tenke på det som en \"hvis-ellers\" logikk.\n",
    "\n",
    "*Før du kjører denne koden, hva tror du blir printet ut? Endre på x og y og test flere situasjoner.* "
   ]
  },
  {
   "cell_type": "code",
   "execution_count": 36,
   "id": "f1357378",
   "metadata": {},
   "outputs": [
    {
     "name": "stdout",
     "output_type": "stream",
     "text": [
      "8 er mindre enn 18\n"
     ]
    }
   ],
   "source": [
    "x = 8\n",
    "y = 18\n",
    "\n",
    "if x > y:\n",
    "    print(f'{x} er større enn {y}')\n",
    "elif x < y:\n",
    "    print(f'{x} er mindre enn {y}')\n",
    "else:\n",
    "    print(f'{x} er lik {y}')"
   ]
  },
  {
   "cell_type": "markdown",
   "id": "4351c227",
   "metadata": {},
   "source": [
    "#### Oppgave 6: Print alle tallene som er større enn 50 i `tall_liste` \n",
    "\n",
    "Vi skal prøve å finne alle tallene fra oppgave 5 som er større en 50. Bruk det du lærte om if betingelser til å printe ut alle tall over 50 fra `tall_liste`. "
   ]
  },
  {
   "cell_type": "code",
   "execution_count": 37,
   "id": "9b1371f6",
   "metadata": {},
   "outputs": [
    {
     "ename": "IndentationError",
     "evalue": "expected an indented block (951569903.py, line 3)",
     "output_type": "error",
     "traceback": [
      "\u001b[0;36m  File \u001b[0;32m/var/folders/f0/y3kf2g4d3cgc2h3ftc_qt18w0000gn/T/ipykernel_38017/951569903.py:3\u001b[0;36m\u001b[0m\n\u001b[0;31m    \u001b[0m\n\u001b[0m    ^\u001b[0m\n\u001b[0;31mIndentationError\u001b[0m\u001b[0;31m:\u001b[0m expected an indented block\n"
     ]
    }
   ],
   "source": [
    "for tall in tall_liste: \n",
    "    # Skriv koden din her \n",
    "    "
   ]
  },
  {
   "cell_type": "markdown",
   "id": "58b2acb8",
   "metadata": {},
   "source": [
    "#### Oppgave 7: While løkker\n",
    "\n",
    "Vi kan også bruke en `while` løkke. Denne utfører en handling så lenge noe er sant. \n",
    "\n",
    "*Hva skjer når du kjører koden under? Hvor mange rader tror du blir printet ut?* "
   ]
  },
  {
   "cell_type": "code",
   "execution_count": 39,
   "id": "67ee4e88",
   "metadata": {},
   "outputs": [
    {
     "name": "stdout",
     "output_type": "stream",
     "text": [
      "7 * 1 = 7\n",
      "7 * 2 = 14\n",
      "7 * 3 = 21\n",
      "7 * 4 = 28\n",
      "7 * 5 = 35\n",
      "7 * 6 = 42\n",
      "7 * 7 = 49\n",
      "7 * 8 = 56\n",
      "7 * 9 = 63\n",
      "7 * 10 = 70\n"
     ]
    }
   ],
   "source": [
    "tall = 7\n",
    "teller = 1\n",
    "\n",
    "while teller <= 10:\n",
    "    produkt = tall * teller\n",
    "    print(f\"{tall} * {teller} = {produkt}\")\n",
    "    teller += 1\n",
    "\n"
   ]
  },
  {
   "cell_type": "markdown",
   "id": "9ddd06c9",
   "metadata": {},
   "source": [
    "# DEL 2 - Lag din egen chat"
   ]
  },
  {
   "cell_type": "markdown",
   "id": "6111f4cc",
   "metadata": {},
   "source": [
    "TODO: Finn ut hva av dette som blir relevant. \n",
    "\n",
    "\n",
    "Når datamaskiner snakker med hverandre kaller vi det klient server kommunikasjon. \n",
    "\n",
    "En **klient** er den som spør om informasjon. For eksemepel en app eller nettleser\\\n",
    "En **server** er datamaskinen som leverer informasjonen.  \n",
    "\n",
    "Når disse datamaskinene snakker sammen bruker de et språk som heter **HTTP**. "
   ]
  },
  {
   "cell_type": "markdown",
   "id": "ea4a2396",
   "metadata": {},
   "source": [
    "#### Oppgave 8: Send en melding med HTTP"
   ]
  },
  {
   "cell_type": "markdown",
   "id": "20380b85",
   "metadata": {},
   "source": [
    "I neste del skal vi lage en HTTP-klient som kan spørre en server om informasjon. "
   ]
  },
  {
   "cell_type": "code",
   "execution_count": 1,
   "id": "4061d75c",
   "metadata": {},
   "outputs": [
    {
     "ename": "SyntaxError",
     "evalue": "invalid syntax (197442752.py, line 1)",
     "output_type": "error",
     "traceback": [
      "\u001b[0;36m  Cell \u001b[0;32mIn[1], line 1\u001b[0;36m\u001b[0m\n\u001b[0;31m    Todo:\u001b[0m\n\u001b[0m          ^\u001b[0m\n\u001b[0;31mSyntaxError\u001b[0m\u001b[0;31m:\u001b[0m invalid syntax\n"
     ]
    }
   ],
   "source": [
    "Todo: \n",
    "    \n",
    "Lag variabel med url og send melding "
   ]
  },
  {
   "cell_type": "code",
   "execution_count": 2,
   "id": "04f73dc0",
   "metadata": {},
   "outputs": [
    {
     "name": "stdout",
     "output_type": "stream",
     "text": [
      "200\n",
      "Status: 200 and reason: OK\n"
     ]
    }
   ],
   "source": [
    "import http.client\n",
    "\n",
    "connection = http.client.HTTPSConnection(\"www.vg.no\")\n",
    "connection.request(\"GET\", \"/\")\n",
    "response = connection.getresponse()\n",
    "print(response.status)\n",
    "print(\"Status: {} and reason: {}\".format(response.status, response.reason))\n",
    "\n",
    "connection.close()"
   ]
  },
  {
   "cell_type": "code",
   "execution_count": null,
   "id": "5acc4535",
   "metadata": {},
   "outputs": [],
   "source": [
    "import requests\n",
    "\n",
    "url = \"https://eksempel.com/melding\"\n",
    "navn = \"\"\n",
    "beskjed = \"\" \n",
    "\n",
    "data = {\n",
    "    \"navn\": navn,\n",
    "    \"beskjed\": beskjed\n",
    "}\n",
    "\n",
    "response = requests.post(url, data=data)\n",
    "print(\"Melding sendt!\")"
   ]
  },
  {
   "cell_type": "markdown",
   "id": "ffc50d9d",
   "metadata": {},
   "source": [
    "Kan du se meldingen din på skjermen? "
   ]
  },
  {
   "cell_type": "markdown",
   "id": "66054224",
   "metadata": {},
   "source": [
    "TODO: Ikke sikkert dette er så viktig å ha med\n",
    "\n",
    "| Statuskode | Beskrivelse                              |\n",
    "|------------|------------------------------------------|\n",
    "| 200        | OK - Forespørselen var vellykket         |\n",
    "| 400        | Forespørselen din har ugyldig format     |\n",
    "| 404        | Ressursen du spør etter finnes ikke      |\n",
    "| 500        | Serveren har gjort noe feil             |"
   ]
  },
  {
   "cell_type": "markdown",
   "id": "ebb0d10f",
   "metadata": {},
   "source": [
    "### Kryptering "
   ]
  },
  {
   "cell_type": "markdown",
   "id": "1861ff1e",
   "metadata": {},
   "source": [
    "Når vi sender meldinger på internett vil vi ikke at hvem som helst skal kunne lese de. Da kan vi kryptere meldingen slik at kun den som har dekypteringsnøkkelen kan tyde innholdet. La oss teste! "
   ]
  },
  {
   "cell_type": "markdown",
   "id": "20f76e37",
   "metadata": {},
   "source": [
    "#### Oppgave 9: Test ut kryptering og dekryptering i boksene under"
   ]
  },
  {
   "cell_type": "code",
   "execution_count": 3,
   "id": "c9d06cc8",
   "metadata": {},
   "outputs": [
    {
     "name": "stdout",
     "output_type": "stream",
     "text": [
      "ibmmp\n"
     ]
    }
   ],
   "source": [
    "from kryptering import *\n",
    "\n",
    "kryptert_tekst = krypter('hallo')\n",
    "\n",
    "print(kryptert_tekst)"
   ]
  },
  {
   "cell_type": "markdown",
   "id": "9cef1546",
   "metadata": {},
   "source": [
    "Du kan dekryptere koden ved å putte teksten inn i `dekrypter` funksjonen."
   ]
  },
  {
   "cell_type": "code",
   "execution_count": 4,
   "id": "2f9cc33f",
   "metadata": {},
   "outputs": [
    {
     "name": "stdout",
     "output_type": "stream",
     "text": [
      "hallo\n"
     ]
    }
   ],
   "source": [
    "# sett inn den krypterte teksten i parantesene under. Husk hvilken data type vi bruker. \n",
    "\n",
    "print(dekrypter('ibmmp'))"
   ]
  },
  {
   "cell_type": "markdown",
   "id": "97c967cb",
   "metadata": {},
   "source": [
    "#### Oppgave 10: Test forksjellige krypteringsmetoder"
   ]
  },
  {
   "cell_type": "markdown",
   "id": "0750de42",
   "metadata": {},
   "source": [
    "Vi har laget noen forskjellige måter å kryptere på. Test de ulike funksjonene i boksen under. "
   ]
  },
  {
   "cell_type": "code",
   "execution_count": 45,
   "id": "c61e7c35",
   "metadata": {},
   "outputs": [
    {
     "name": "stdout",
     "output_type": "stream",
     "text": [
      "Qm9pdGFubw==\n",
      "pmac hcet KNET\n",
      "Qzuipo fs lvmu\n"
     ]
    }
   ],
   "source": [
    "print(base64_kryptering(\"Boitano\"))\n",
    "print(baklengs_kryptering(\"TENK tech camp\"))\n",
    "print(krypter(\"Python er kult\"))"
   ]
  },
  {
   "cell_type": "markdown",
   "id": "18b72597",
   "metadata": {},
   "source": [
    "Disse kan du dekyptere igjen ved å putte de inn i de tilhørende dekrypteringsfunksjonene"
   ]
  },
  {
   "cell_type": "code",
   "execution_count": 46,
   "id": "db9b450c",
   "metadata": {},
   "outputs": [
    {
     "name": "stdout",
     "output_type": "stream",
     "text": [
      "Boitano\n",
      "TENK tech camp\n",
      "Python er kult\n"
     ]
    }
   ],
   "source": [
    "print(base64_dekryptering(\"Qm9pdGFubw==\"))\n",
    "print(baklengs_dekryptering(\"pmac hcet KNET\"))\n",
    "print(dekrypter(\"Qzuipo fs lvmu\"))"
   ]
  },
  {
   "cell_type": "markdown",
   "id": "b7683f3e",
   "metadata": {},
   "source": [
    "#### Oppgave 11: Send en kryptert til serveren, du velger selv hvordan du vil kryptere den  "
   ]
  },
  {
   "cell_type": "markdown",
   "id": "616907a6",
   "metadata": {},
   "source": [
    "Bruk funksjonene fra forrige oppgave og send en kryptert melding"
   ]
  },
  {
   "cell_type": "code",
   "execution_count": 47,
   "id": "4b9fe7f0",
   "metadata": {},
   "outputs": [],
   "source": [
    "# Skriv koden her "
   ]
  },
  {
   "cell_type": "markdown",
   "id": "cf5303da",
   "metadata": {},
   "source": [
    "#### Oppgave 12: Lytt på andre meldinger \n",
    "\n",
    "Nå skal vi koble oss på chatten, slik at vi mottar alle meldingene som blir sendt. \n",
    "\n"
   ]
  },
  {
   "cell_type": "code",
   "execution_count": null,
   "id": "f4158a3a",
   "metadata": {},
   "outputs": [],
   "source": [
    "# Todo: Websocket "
   ]
  },
  {
   "cell_type": "markdown",
   "id": "abae1278",
   "metadata": {},
   "source": [
    "#### Oppgave 13: Dekypter meldingene \n",
    "\n",
    "Er noen av meldingen du får kryptert? Bruk funksjonene fra oppgave 10 for å se innholdet. Det kan hende at du må prøve flere ganger. \n"
   ]
  },
  {
   "cell_type": "code",
   "execution_count": 33,
   "id": "f0a11fbd",
   "metadata": {},
   "outputs": [],
   "source": [
    "# Putt inn meldingene i forrige oppgave i dekrypteringsfunksjonene. "
   ]
  },
  {
   "cell_type": "markdown",
   "id": "34c72396",
   "metadata": {},
   "source": [
    "#### Oppgave 14: TODO: Løs den hemmelige Boitano koden.... "
   ]
  },
  {
   "cell_type": "markdown",
   "id": "5f72af12",
   "metadata": {},
   "source": [
    "Det er noen i Boitano som prøver å sende deg en hemmelig beskjed, men vil ikke at noen andre skal se innholdet. \n",
    "\n",
    "Filtrer meldingene slik at du kun mottar meldinger fra Boitano. \n",
    "\n",
    "Hint: Bruk en if-blokk som vi lærte om i Del 1. \n",
    "\n",
    "Deretter må du dekryptere meldingen. Meldingen gir deg et hint om veien videre. "
   ]
  },
  {
   "cell_type": "code",
   "execution_count": null,
   "id": "dcaa0436",
   "metadata": {},
   "outputs": [
    {
     "name": "stdout",
     "output_type": "stream",
     "text": [
      "Python 3.9.6 (default, Mar 10 2023, 20:16:38) \n",
      "Type 'copyright', 'credits' or 'license' for more information\n",
      "IPython 8.14.0 -- An enhanced Interactive Python. Type '?' for help.\n",
      "\n"
     ]
    }
   ],
   "source": [
    "import asyncio\n",
    "import websockets\n",
    "import nest_asyncio\n",
    "nest_asyncio.apply()\n",
    "__import__('IPython').embed()\n",
    " \n",
    "async def test():\n",
    "    async with websockets.connect('wss://demo.piesocket.com/v3/channel_1?api_key=YOUR_API_KEY') as websocket:\n",
    "        await websocket.send(\"hello\")\n",
    "        response = await websocket.recv()\n",
    "        print(response)\n",
    " \n",
    "asyncio.get_event_loop().run_until_complete(test())"
   ]
  },
  {
   "cell_type": "code",
   "execution_count": null,
   "id": "a461748c",
   "metadata": {},
   "outputs": [],
   "source": []
  }
 ],
 "metadata": {
  "kernelspec": {
   "display_name": "Python 3 (ipykernel)",
   "language": "python",
   "name": "python3"
  },
  "language_info": {
   "codemirror_mode": {
    "name": "ipython",
    "version": 3
   },
   "file_extension": ".py",
   "mimetype": "text/x-python",
   "name": "python",
   "nbconvert_exporter": "python",
   "pygments_lexer": "ipython3",
   "version": "3.9.6"
  },
  "vscode": {
   "interpreter": {
    "hash": "31f2aee4e71d21fbe5cf8b01ff0e069b9275f58929596ceb00d14d90e3e16cd6"
   }
  }
 },
 "nbformat": 4,
 "nbformat_minor": 5
}
