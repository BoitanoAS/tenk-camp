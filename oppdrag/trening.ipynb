{
 "cells": [
  {
   "attachments": {},
   "cell_type": "markdown",
   "metadata": {},
   "source": [
    "![Trening_1](../img/oppdrag/trening_1_bilde.png)\n"
   ]
  },
  {
   "attachments": {},
   "cell_type": "markdown",
   "metadata": {},
   "source": [
    "![Trening_1](../img/oppdrag/trening_1_txt.png)\n"
   ]
  },
  {
   "attachments": {},
   "cell_type": "markdown",
   "metadata": {},
   "source": [
    "#### Skriv ut en melding"
   ]
  },
  {
   "attachments": {},
   "cell_type": "markdown",
   "metadata": {},
   "source": [
    "Vi kan bruke `print` for å skrive ut meldinger til konsollen. Klikk på ruten under og trykk `Run`."
   ]
  },
  {
   "cell_type": "code",
   "execution_count": null,
   "metadata": {},
   "outputs": [],
   "source": [
    "print('Velkommen agent!')"
   ]
  },
  {
   "attachments": {},
   "cell_type": "markdown",
   "metadata": {},
   "source": [
    "#### Lag variabler og finn riktig data type "
   ]
  },
  {
   "attachments": {},
   "cell_type": "markdown",
   "metadata": {},
   "source": [
    "Datatyper sier noe om hva slags data vi skal lagre. Når vi lagrer bokstaver og ord må disse være i fnutter `''` og kalles en `string`. Vi kan også lagre heltall (1, 2, 3 ..) `int`. I tillegg har vi en boolsk variabel `bool` verdier. Som bare kan ha to verdier (sant/usant), i Python er disse `True` eller `False`."
   ]
  },
  {
   "cell_type": "code",
   "execution_count": null,
   "metadata": {},
   "outputs": [],
   "source": [
    "heltall = 2 \n",
    "tekst = 'Dette er en tekst'\n",
    "boolean = True"
   ]
  },
  {
   "attachments": {},
   "cell_type": "markdown",
   "metadata": {},
   "source": [
    "Vi bruker variabler for å lagre data. En variabel er noe som varierer, for eksempel navn og alder.\n",
    "\n",
    "*Lag en variabel `navn` og `alder` og print de ut til konsollen.*\n",
    "\n",
    "*Hvilken datatype burde disse ha?*"
   ]
  },
  {
   "cell_type": "code",
   "execution_count": null,
   "metadata": {},
   "outputs": [],
   "source": [
    "navn = \n",
    "alder = \n",
    "\n",
    "print(navn)\n",
    "print(alder)"
   ]
  },
  {
   "attachments": {},
   "cell_type": "markdown",
   "metadata": {},
   "source": [
    "#### Lag en dictionary"
   ]
  },
  {
   "attachments": {},
   "cell_type": "markdown",
   "metadata": {},
   "source": [
    "Vi kan sette sammen flere datatyper for å lage en `dictionary`. For eksempel kan vi ha en `stjerne` som har både et navn og en alder. "
   ]
  },
  {
   "cell_type": "code",
   "execution_count": null,
   "metadata": {},
   "outputs": [],
   "source": [
    "stjerne = {\n",
    "    \"navn\": \"Sabrina\",\n",
    "    \"etternavn\": \"Carpenter\",\n",
    "    \"alder\": 25 \n",
    "}\n",
    "\n",
    "print(stjerne)"
   ]
  },
  {
   "attachments": {},
   "cell_type": "markdown",
   "metadata": {},
   "source": [
    "*Lag en dictionary som heter `låt` og inneholder informasjon om en ett navn, en alder, navnet på en sang og en album tittel. Print oppdraget til konsollen*"
   ]
  },
  {
   "cell_type": "code",
   "execution_count": null,
   "metadata": {},
   "outputs": [],
   "source": [
    "# Skriv koden din her "
   ]
  },
  {
   "attachments": {},
   "cell_type": "markdown",
   "metadata": {},
   "source": [
    "#### Regn med variabler"
   ]
  },
  {
   "attachments": {},
   "cell_type": "markdown",
   "metadata": {},
   "source": [
    "Når vi har flere variabler, kan vi gjøre ulike operasjoner på de. For eksempel legge de sammen, trekke de fra hverandre, multiplisere og dele. Bruk variablene `x` og `y` til å fylle ut trykkene under "
   ]
  },
  {
   "cell_type": "code",
   "execution_count": null,
   "metadata": {},
   "outputs": [],
   "source": [
    "x = 2\n",
    "y = 3\n",
    "\n",
    "sum = \n",
    "differanse = \n",
    "produkt = \n",
    "kvotient = \n",
    "\n",
    "print(f'Summen av {x} og {y}: {sum}')\n",
    "print(f'Differansen av {x} og {y}: {differanse}')\n",
    "print(f'Produktet av {x} og {y}: {produkt}')\n",
    "print(f'Kvotien av {x} og {y}: {kvotient}')"
   ]
  },
  {
   "attachments": {},
   "cell_type": "markdown",
   "metadata": {},
   "source": [
    "#### Lag en liste"
   ]
  },
  {
   "attachments": {},
   "cell_type": "markdown",
   "metadata": {},
   "source": [
    "Vi kan også lage en liste med data. Dette gjør vi med å bruke klammeparanteser \n",
    "\n",
    "`navn = ['muldvarp', 'haifjes', 'fela']`\n",
    "\n",
    "Lag en liste med dyr og print den under. "
   ]
  },
  {
   "cell_type": "code",
   "execution_count": null,
   "metadata": {},
   "outputs": [],
   "source": [
    "# Skriv koden din her "
   ]
  },
  {
   "attachments": {},
   "cell_type": "markdown",
   "metadata": {},
   "source": [
    "### Løkker og betingelser "
   ]
  },
  {
   "attachments": {},
   "cell_type": "markdown",
   "metadata": {},
   "source": [
    "En `for`-løkke gjør noe om og om igjen helt til antallet vi har satt er nådd. Hvis vi har en liste med tall kan vi for eksempel printe alle tallene i lista. Under gir vi instuksjoner til datamaskinen om at vi ønsker å skrive ut `print(tall)` ett tall for alle tallene som befinner seg i `tall_liste`.  Eksperimenter gjerne med listen ved å gjøre den lengere og kortere.\n",
    "\n",
    "#### Print alle tallene i lista"
   ]
  },
  {
   "cell_type": "code",
   "execution_count": null,
   "metadata": {},
   "outputs": [],
   "source": [
    "tall_liste = [54, 23, 5, 98, 34, 66, 17, 93, 9, 30]\n",
    "\n",
    "for tall in tall_liste: \n",
    "    print(tall)"
   ]
  },
  {
   "attachments": {},
   "cell_type": "markdown",
   "metadata": {},
   "source": [
    "En betingelse betyr at datamaskinen gjør en handling dersom en betingelse er oppfylt. Du kan tenke på det som en \"hvis-ellers\" logikk.\n",
    "\n",
    "I mattematikkens verden bruker vi ulikhetstegnet for å sette betingelser. Ulikhetstegnene `<` og `>` brukes til å fortelle at en størrelse er mindre eller større enn en annen. Dette kan vi og gjøre i Python. \n",
    "Her kan vi skrive ett utsagn f.eks:\n",
    "\n",
    "`4 > 2`\n",
    "\n",
    "Usagnet forteller oss at `4` er større enn `2`. Dette vil datamaskinen evaluere og komme frem til verdien `True`, eller sant på norsk fordi, 4 er større enn 2. \n",
    "\n",
    "\n",
    "*Før du kjører denne koden, hva tror du blir printet ut? Endre på x og y og test flere situasjoner.* "
   ]
  },
  {
   "cell_type": "code",
   "execution_count": null,
   "metadata": {},
   "outputs": [],
   "source": [
    "x = 8\n",
    "y = 18\n",
    "\n",
    "if x > y:\n",
    "    print(f'{x} er større enn {y}')\n",
    "elif x < y:\n",
    "    print(f'{x} er mindre enn {y}')\n",
    "else:\n",
    "    print(f'{x} er lik {y}')"
   ]
  },
  {
   "attachments": {},
   "cell_type": "markdown",
   "metadata": {},
   "source": [
    "#### Print alle tallene som er større enn 50 i `tall_liste` \n",
    "\n",
    "Nå skal vi prøve å finne alle tallene i tall_listen som er større en 50. Bruk det du lærte om if betingelser til å printe ut alle tall over 50 fra `tall_liste`. "
   ]
  },
  {
   "cell_type": "code",
   "execution_count": null,
   "metadata": {},
   "outputs": [],
   "source": [
    "for tall in tall_liste: \n",
    "    # Skriv koden din her \n",
    "    "
   ]
  },
  {
   "attachments": {},
   "cell_type": "markdown",
   "metadata": {},
   "source": [
    "#### While løkker\n",
    "\n",
    "Vi kan også bruke en `while` løkke. Denne utfører en handling så lenge noe er sant. \n",
    "Her bruker vi og ulikhetstegnet\n",
    "\n",
    "`<=`\n",
    "\n",
    "Dette betyr mindre eller lik, vi skrive ett utsagn f.ex:\n",
    "\n",
    "`1 <= 2`\n",
    "\n",
    "Usagnet forteller oss at `1` er mindre eller lik `2`. Dette vil datamaskinen evaluere og komme frem til verdien `True`\n",
    "\n",
    "Under bruker vi ett utsagn for å bestemme hvor mange ganger løkken vår skal kjøre. \n",
    "\n",
    "*Hva skjer når du kjører koden under? Hvor mange rader tror du blir printet ut?* "
   ]
  },
  {
   "cell_type": "code",
   "execution_count": null,
   "metadata": {},
   "outputs": [],
   "source": [
    "tall = 7\n",
    "teller = 1\n",
    "\n",
    "while teller <= 10:\n",
    "    produkt = tall * teller\n",
    "    print(f\"{tall} * {teller} = {produkt}\")\n",
    "    teller += 1\n",
    "\n"
   ]
  },
  {
   "attachments": {},
   "cell_type": "markdown",
   "metadata": {},
   "source": [
    "![Trening_1](../img/oppdrag/godt_jobba.png)\n"
   ]
  },
  {
   "attachments": {},
   "cell_type": "markdown",
   "metadata": {},
   "source": [
    "### Gå videre til [oppdrag_1](oppdrag_1.ipynb)"
   ]
  }
 ],
 "metadata": {
  "kernelspec": {
   "display_name": "Python 3",
   "language": "python",
   "name": "python3"
  },
  "language_info": {
   "codemirror_mode": {
    "name": "ipython",
    "version": 3
   },
   "file_extension": ".py",
   "mimetype": "text/x-python",
   "name": "python",
   "nbconvert_exporter": "python",
   "pygments_lexer": "ipython3",
   "version": "3.9.6"
  },
  "orig_nbformat": 4,
  "vscode": {
   "interpreter": {
    "hash": "31f2aee4e71d21fbe5cf8b01ff0e069b9275f58929596ceb00d14d90e3e16cd6"
   }
  }
 },
 "nbformat": 4,
 "nbformat_minor": 2
}
