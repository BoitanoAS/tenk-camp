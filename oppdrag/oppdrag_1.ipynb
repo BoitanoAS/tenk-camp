{
 "cells": [
  {
   "attachments": {},
   "cell_type": "markdown",
   "metadata": {},
   "source": [
    "![Trening_1](../img/oppdrag/oppdrag_1_bilde.png)\n"
   ]
  },
  {
   "attachments": {},
   "cell_type": "markdown",
   "metadata": {},
   "source": [
    "![Trening_1](../img/oppdrag/oppdrag_1_txt.png)\n"
   ]
  },
  {
   "attachments": {},
   "cell_type": "markdown",
   "metadata": {},
   "source": [
    "### Klient-Server kommunikasjon"
   ]
  },
  {
   "attachments": {},
   "cell_type": "markdown",
   "metadata": {},
   "source": [
    "![client_server](../img/assets/client_server.png)\n"
   ]
  },
  {
   "attachments": {},
   "cell_type": "markdown",
   "metadata": {},
   "source": [
    "Klient-server-kommunikasjon er en måte datamaskiner snakker sammen på.\n",
    "\n",
    "Forestill deg at du er i et bibliotek og ønsker å låne en bok, dette blir ofte kalt en **Request**. Biblioteket har en bibliotekar (som er serveren) og deg selv (som er klienten). Du går til bibliotekaren og spør om boken du vil låne. Bibliotekaren sjekker om boken er tilgjengelig. Deretter gir bibliotekaren deg boken hvis den er tilgjengelig, dette blir ofte kalt en **Response**.\n",
    "\n",
    "I dette eksemplet er du klienten, fordi du ber om noe (boken) fra bibliotekaren (serveren). Bibliotekaren har informasjonen (bokens tilgjengelighet) og svarer på forespørselen din. Enten ved å gi deg boken, eller ved å si at den ikke er tilgjengelig.\n",
    "\n",
    "Kort oppsummert: Klient-server-kommunikasjon er når en datamaskin (klienten) ber om noe fra en annen datamaskin (serveren), som har informasjonen eller ressursene den trenger. Det er som å be om en bok fra bibliotekaren. \n",
    "\n",
    "* **klient** er den som spør om informasjon. For eksemepel en app eller nettleser\n",
    "* **server** er datamaskinen som leverer informasjonen.  \n",
    "\n",
    "En server kan gi informasjon til flere klienter samtidig. Heldivis har agent ``Gaupe`` satt opp en ny server for oss. Serveren tar imot meldinger og lagrer de. Dette gjør det mulig for oss å hente ut meldingne.\n",
    "\n",
    "Oppdraget går ut på å sende og hente ut meldinger. Vi må derfor tilpasse **requesten** vår til å sende informasjon til serveren, og derette lage en annen **request** som kan spørre serveren om en melding.\n",
    "\n"
   ]
  },
  {
   "attachments": {},
   "cell_type": "markdown",
   "metadata": {},
   "source": [
    "![client_server](../img/assets/client_server_many.png)\n"
   ]
  },
  {
   "attachments": {},
   "cell_type": "markdown",
   "metadata": {},
   "source": [
    "Siden det finnes en million måter å spørre en server om informasjon på, har noen smarte mennesker laget en felles protokoll slik at alle gjør det på omtrent samme måte. Denne protokollen heter **HTTP**, kort for hypertekstoverføringsprotokoll. **HTTP** er den mest populære måten å utveklse informasjon på over internett. \n",
    "\n",
    "En viktig del av protokollen er de ulike kodene som serveren svarer med for å si noe om den har informasjonen vi spør om eller ikke. Under finner du de mest populære kodene.\n",
    "\n",
    "| Statuskode | Beskrivelse                              |\n",
    "|------------|------------------------------------------|\n",
    "| 200        | OK - Forespørselen var vellykket         |\n",
    "| 400        | Forespørselen din har ugyldig format     |\n",
    "| 404        | Ressursen du spør etter finnes ikke      |\n",
    "| 500        | Serveren har gjort noe feil             |\n",
    "\n",
    "De er faktisk så populære at noen har funnet passende hundebilder til hver kode - kjenner du igjen noen koder fra listen over?\n",
    "\n",
    "![Trening_1](../img/assets/dogs.png)\n",
    "\n",
    "\n",
    "\n",
    "Agent ``Gaupe`` har selvfølgeig brukt denne protokollen på serveren sin, så når vi skal lage vår **Request** må vi gjøre det i henhold til **HTTP** protokollen. Vi skal altså lage en **HTTP-klient**."
   ]
  },
  {
   "cell_type": "code",
   "execution_count": null,
   "metadata": {},
   "outputs": [],
   "source": [
    "#Todo: \n",
    "    \n",
    "# Lag variabel med url og send melding "
   ]
  },
  {
   "attachments": {},
   "cell_type": "markdown",
   "metadata": {},
   "source": [
    "#### Send en melding med HTTP\n",
    "La oss sjekke om serveren er oppe å kjører, dett gjør man som regel ved å sende en tom request til serveren. Hvis agent ``Gaupe`` har satt opp serveren korrekt skal den gi oss statuskode 200 tilbake "
   ]
  },
  {
   "cell_type": "code",
   "execution_count": null,
   "metadata": {},
   "outputs": [],
   "source": [
    "import requests\n",
    "url = \"https://tenk-server.fly.dev/\"\n",
    "\n",
    "response = requests.get(url)\n",
    "for item in response.json():\n",
    "    print(item)\n"
   ]
  },
  {
   "cell_type": "code",
   "execution_count": null,
   "metadata": {},
   "outputs": [],
   "source": [
    "# TODO - legg til seksjon der man henter ut en melding"
   ]
  },
  {
   "attachments": {},
   "cell_type": "markdown",
   "metadata": {},
   "source": [
    "Hvis du fikk en 200 kode fra serveren er den klar til å motta meldingen vår. La oss legge til en melding som serveren skal lagre i **Requesten** vår"
   ]
  },
  {
   "cell_type": "code",
   "execution_count": null,
   "metadata": {},
   "outputs": [],
   "source": [
    "import requests\n",
    "\n",
    "url = \"https://tenk-server.fly.dev/\"\n",
    "\n",
    "navn = \"Python\"\n",
    "beskjed = \"Notebook\" \n",
    "\n",
    "data = {\n",
    "    \"name\": navn,\n",
    "    \"text\": beskjed\n",
    "}\n",
    "\n",
    "response = requests.post(url, data=data)\n",
    "print(\"Melding sendt!\")\n"
   ]
  },
  {
   "attachments": {},
   "cell_type": "markdown",
   "metadata": {},
   "source": [
    "Kan du se meldingen din på skjermen? Det betyr at serveren har mottat og lagret denne. Hvis du ikke kunne sett meldingen på skjermen, hvordan kunne du vist om serveren mottok meldingen din?\n",
    "\n",
    "\n",
    "\n",
    "\n",
    "\n",
    " **Hint** statuskoder"
   ]
  },
  {
   "attachments": {},
   "cell_type": "markdown",
   "metadata": {},
   "source": [
    "#### Chat client\n",
    "Vi ønsker å fange opp alle meldinger som blir sendt til den nye serveren, slik at vi umiddelbart kan hjelpe agenter i nød og hente ut kritisk informasjon om oppdragene vi gjennomfører.\n",
    "\n",
    "I de tidligere cellene spurte vi hele tiden om informasjon fra serveren, dette kan være litt tungvindt når vi vet at vi kontinuerlig får inn ny informasjon fra agentene i felt. Vi skal nå benytte oss av en teknologi som heter **web-sockets**. Metoden vi brukte tidligere med **HTTP klienten** kan sammenlignes med å sende brev, og vente på svar. Mens web-sockets kan sammenlignes med en walkie-talkie. Hvis noen snakker i sin walkie-talkie hører du det umiddelbart i din, og kan svare tilbake.\n",
    "\n",
    "Vi skal nå lage en chat-client som får inn alle meldingene i sanntid ved hjelp av **web-sockets**. Kjør koden i cellene under for å teste det ut"
   ]
  },
  {
   "cell_type": "code",
   "execution_count": null,
   "metadata": {},
   "outputs": [],
   "source": [
    "import socketio\n",
    "sio = socketio.Client()\n",
    "\n",
    "url = \"https://tenk-server.fly.dev/\"\n",
    "\n",
    "@sio.on('messages')\n",
    "def on_message(data):\n",
    "    print(\"Vi får data fra serveren!\")\n",
    "    for event in data: \n",
    "        print(event)\n",
    "        \n",
    "@sio.event\n",
    "def connect():\n",
    "    print(\"Jeg er koblet til!\")\n",
    "    \n",
    "@sio.on('message')\n",
    "def on_message(data):\n",
    "    print(data)\n",
    "    \n",
    "\n",
    "sio.connect(url)\n",
    "sio.emit('newMessage', {'name': \"hei\", 'text': \"test\"})\n"
   ]
  },
  {
   "attachments": {},
   "cell_type": "markdown",
   "metadata": {},
   "source": [
    "Vi kan og sende meldinger, akkurat som i walkie-talkie eksempelet. Her vil du se at de dukker opp på skjermen og i din egen notebook. I tillegg vil du kunne lese alle de andre meldingene som kommer inn."
   ]
  },
  {
   "cell_type": "code",
   "execution_count": null,
   "metadata": {},
   "outputs": [],
   "source": [
    "import socketio\n",
    "\n",
    "name = \"FYLL INN NAVN\"\n",
    "\n",
    "sioClient = socketio.Client()\n",
    "\n",
    "\n",
    "@sioClient.event\n",
    "def connect():\n",
    "    print(\"Jeg er koblet til!\")\n",
    "\n",
    "sioClient.connect(\"https://tenk-server.fly.dev/\")\n",
    "while True:\n",
    "    user_input = input(\"Skriv inn en melding (skriv exit for å avslutte): \")\n",
    "    if user_input.lower() == \"exit\":\n",
    "        break\n",
    "    else:\n",
    "        sioClient.emit('newMessage', {'name': name, 'text': user_input})\n",
    "sioClient.disconnect()\n",
    "sio.disconnect()"
   ]
  },
  {
   "attachments": {},
   "cell_type": "markdown",
   "metadata": {},
   "source": [
    "### Hvis du kan se meldingen din kan du gå videre til [oppdrag_2](oppdrag_2.ipynb)"
   ]
  },
  {
   "attachments": {},
   "cell_type": "markdown",
   "metadata": {},
   "source": [
    "![Trening_1](../img/oppdrag/godt_jobba.png)\n"
   ]
  }
 ],
 "metadata": {
  "kernelspec": {
   "display_name": "Python 3",
   "language": "python",
   "name": "python3"
  },
  "language_info": {
   "codemirror_mode": {
    "name": "ipython",
    "version": 3
   },
   "file_extension": ".py",
   "mimetype": "text/x-python",
   "name": "python",
   "nbconvert_exporter": "python",
   "pygments_lexer": "ipython3",
   "version": "3.11.2"
  },
  "orig_nbformat": 4
 },
 "nbformat": 4,
 "nbformat_minor": 2
}
