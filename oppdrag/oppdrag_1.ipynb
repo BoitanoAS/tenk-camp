{
 "cells": [
  {
   "attachments": {},
   "cell_type": "markdown",
   "metadata": {},
   "source": [
    "![Trening_1](../img/oppdrag/oppdrag_1_bilde.png)\n"
   ]
  },
  {
   "attachments": {},
   "cell_type": "markdown",
   "metadata": {},
   "source": [
    "![Trening_1](../img/oppdrag/oppdrag_1_txt.png)\n"
   ]
  },
  {
   "attachments": {},
   "cell_type": "markdown",
   "metadata": {},
   "source": [
    "### Klient-Server kommunikasjon"
   ]
  },
  {
   "attachments": {},
   "cell_type": "markdown",
   "metadata": {},
   "source": [
    "![client_server](../img/assets/client_server.png)\n"
   ]
  },
  {
   "attachments": {},
   "cell_type": "markdown",
   "metadata": {},
   "source": [
    "Oppdraget vi skal løse er går ut på å sende og hente ut meldinger. Dette gjør datamaskiner ved hjelp av noe som heter Klient-server-kommunikasjon. Klient-server-kommunikasjon er en måte datamaskiner snakker sammen på.\n",
    "\n",
    "Forestill deg at du er i et bibliotek og ønsker å låne en bok, dette blir ofte kalt en **Request**. Biblioteket har en bibliotekar (som er serveren) og deg selv (som er klienten). Du går til bibliotekaren og spør om boken du vil låne. Bibliotekaren sjekker om boken er tilgjengelig. Deretter gir bibliotekaren deg boken hvis den er tilgjengelig, dette blir ofte kalt en **Response**.\n",
    "\n",
    "I dette eksemplet er du klienten, fordi du ber om noe (boken) fra bibliotekaren (serveren). Bibliotekaren har informasjonen (bokens tilgjengelighet) og svarer på forespørselen din. Enten ved å gi deg boken, eller ved å si at den ikke er tilgjengelig.\n",
    "\n",
    "* **klient** er den som spør om informasjon. For eksempel en app eller nettleser\n",
    "* **server** er datamaskinen som leverer informasjonen \n",
    "\n",
    "For å gjøre dette i Python må vi bruke `requests` kodeordet. Siden vi er interessert i å hente informasjon fra serveren legger vi til `get` eller hent på norsk. Da instruerer vi Python til å bruke en request til å hente informasjon. \n",
    "\n",
    "Men vi trenger en server som kan gi oss, og lagre informasjon vi gir den. Heldigvis har agent `Gaupe` satt opp denne til oss, og han sier at den befinner seg på følgende adresse: \n",
    "\n",
    "`https://tenk-server.fly.dev/`\n",
    "\n",
    "Derfor legger vi til adressen i forespørselen vår.\n",
    "\n",
    "Akkurat dette har vi gjort i koden under, kjør blokken for å se hva som skjer"
   ]
  },
  {
   "cell_type": "code",
   "execution_count": null,
   "metadata": {},
   "outputs": [],
   "source": [
    "import requests\n",
    "server_adresse = \"https://tenk-server.fly.dev/\"\n",
    "\n",
    "response = requests.get(server_adresse)\n",
    "print(response)"
   ]
  },
  {
   "attachments": {},
   "cell_type": "markdown",
   "metadata": {},
   "source": [
    "Godt jobba! Du har fått det første svaret ditt fra serveren.\n",
    "\n",
    "Men hva betyr egentlig `<Response [200]>`??"
   ]
  },
  {
   "attachments": {},
   "cell_type": "markdown",
   "metadata": {},
   "source": [
    "Siden det finnes en million måter å spørre en server om informasjon på, har noen smarte mennesker laget en felles protokoll slik at alle gjør det på omtrent samme måte. Denne protokollen heter **HTTP**, kort for hypertekstoverføringsprotokoll. **HTTP** er den mest populære måten å utveklse informasjon på over internett. \n",
    "\n",
    "En viktig del av protokollen er de ulike kodene som serveren svarer med for å si noe om den har informasjonen vi spør om eller ikke. Under finner du de mest populære kodene.\n",
    "\n",
    "| Statuskode | Beskrivelse                              |\n",
    "|------------|------------------------------------------|\n",
    "| 200        | OK - Forespørselen var vellykket         |\n",
    "| 400        | Forespørselen din har ugyldig format     |\n",
    "| 404        | Ressursen du spør etter finnes ikke      |\n",
    "| 500        | Serveren har gjort noe feil             |\n",
    "\n",
    "\n",
    "Agent ``Gaupe`` har selvfølgeig brukt denne protokollen på serveren sin, så når vi skal lage vår **Request** må vi gjøre det i henhold til **HTTP** protokollen. Vi skal altså lage en **HTTP-klient**."
   ]
  },
  {
   "attachments": {},
   "cell_type": "markdown",
   "metadata": {},
   "source": [
    "#### Send en melding med HTTP\n",
    "Forrige request vi sendte fikk vi en 200 response som sa at forespørselen vår var vellykket. Men vi så jo ikke noe informasjon, det er fordi denne er lagret i en dictionary. Under viser vi ett eksempel på hvordan man kan skrive ut informasjonen som serveren har gitt oss"
   ]
  },
  {
   "cell_type": "code",
   "execution_count": null,
   "metadata": {},
   "outputs": [],
   "source": [
    "import requests\n",
    "server_adresse = \"https://tenk-server.fly.dev/\"\n",
    "\n",
    "response = requests.get(server_adresse)\n",
    "for item in response.json():\n",
    "    print(item)\n"
   ]
  },
  {
   "attachments": {},
   "cell_type": "markdown",
   "metadata": {},
   "source": [
    "Nå som vi klarer å hente ut informasjon med `get` kommandoen er det på tide å sende informasjon til serveren.\n",
    "Dette gjøres med `post` kommandoen. Når vi bruker post i requesten kan vi se for oss at vi sender med ett brev til serveren som innholder informasjon. Dette kommer vi til å omtale som data. Data som serveren kan lese må i ett `dictionary` format, dette lærte vi om i treningen.\n",
    "\n",
    "\n",
    "Test dette ut med eksempelet under, her sender vi informasjon til serveren\n",
    "\n",
    "Under bruker vi igjen `requests` kodeordet, men denne gangen med `post` kommandoen. `post` kommandoen forventer at vi gir den en server adresse og en data pakke som inneholder informasjon i ett dictionary format. "
   ]
  },
  {
   "cell_type": "code",
   "execution_count": null,
   "metadata": {},
   "outputs": [],
   "source": [
    "import requests\n",
    "\n",
    "server_adresse = \"https://tenk-server.fly.dev/\"\n",
    "\n",
    "navn = \"Python\"\n",
    "beskjed = \"Notebook\" \n",
    "\n",
    "data = {\n",
    "    \"name\": navn,\n",
    "    \"text\": beskjed\n",
    "}\n",
    "\n",
    "response = requests.post(server_adresse, data=data)\n",
    "print(\"Melding sendt!\")\n"
   ]
  },
  {
   "attachments": {},
   "cell_type": "markdown",
   "metadata": {},
   "source": [
    "Kan du se meldingen din på skjermen? Det betyr at serveren har mottat og lagret denne. Hvis du ikke kunne sett meldingen på skjermen, hvordan kunne du vist om serveren mottok meldingen din?\n",
    "\n",
    "\n",
    "\n",
    "\n",
    "\n",
    " **Hint** statuskoder"
   ]
  },
  {
   "attachments": {},
   "cell_type": "markdown",
   "metadata": {},
   "source": [
    "#### Chat client\n",
    "Vi ønsker å fange opp alle meldinger som blir sendt til den nye serveren, slik at vi umiddelbart kan hjelpe agenter i nød og hente ut kritisk informasjon om oppdragene vi gjennomfører.\n",
    "\n",
    "I de tidligere cellene spurte vi hele tiden om informasjon fra serveren, dette kan være litt tungvindt når vi vet at vi kontinuerlig får inn ny informasjon fra agentene i felt. Vi skal nå benytte oss av en teknologi som heter **web-sockets**. Metoden vi brukte tidligere med **HTTP klienten** kan sammenlignes med å sende brev, og vente på svar. Mens web-sockets kan sammenlignes med en walkie-talkie. Hvis noen snakker i sin walkie-talkie hører du det umiddelbart i din, og kan svare tilbake.\n",
    "\n",
    "Vi skal nå lage en chat-client som får inn alle meldingene i sanntid ved hjelp av **web-sockets**. Kjør koden i cellene under for å teste det ut"
   ]
  },
  {
   "cell_type": "code",
   "execution_count": null,
   "metadata": {},
   "outputs": [],
   "source": [
    "import socketio\n",
    "sio = socketio.Client()\n",
    "\n",
    "server_adresse = \"https://tenk-server.fly.dev/\"\n",
    "\n",
    "@sio.on('messages')\n",
    "def on_message(data):\n",
    "    print(\"Vi får data fra serveren!\")\n",
    "    for event in data: \n",
    "        print(event)\n",
    "        \n",
    "@sio.event\n",
    "def connect():\n",
    "    print(\"Jeg er koblet til!\")\n",
    "    \n",
    "@sio.on('message')\n",
    "def on_message(data):\n",
    "    print(data)\n",
    "    \n",
    "\n",
    "sio.connect(server_adresse)\n",
    "sio.emit('newMessage', {'name': \"hei\", 'text': \"test\"})\n"
   ]
  },
  {
   "attachments": {},
   "cell_type": "markdown",
   "metadata": {},
   "source": [
    "Vi kan og sende meldinger, akkurat som i walkie-talkie eksempelet. Her vil du se at de dukker opp på skjermen og i din egen notebook. I tillegg vil du kunne lese alle de andre meldingene som kommer inn."
   ]
  },
  {
   "cell_type": "code",
   "execution_count": null,
   "metadata": {},
   "outputs": [],
   "source": [
    "import socketio\n",
    "\n",
    "name = \"FYLL INN NAVN\"\n",
    "\n",
    "sioClient = socketio.Client()\n",
    "server_adresse = \"https://tenk-server.fly.dev/\"\n",
    "\n",
    "@sioClient.event\n",
    "def connect():\n",
    "    print(\"Jeg er koblet til!\")\n",
    "\n",
    "sioClient.connect(server_adresse)\n",
    "while True:\n",
    "    user_input = input(\"Skriv inn en melding (skriv exit for å avslutte): \")\n",
    "    if user_input.lower() == \"exit\":\n",
    "        break\n",
    "    else:\n",
    "        sioClient.emit('newMessage', {'name': name, 'text': user_input})\n",
    "sioClient.disconnect()\n",
    "sio.disconnect()"
   ]
  },
  {
   "attachments": {},
   "cell_type": "markdown",
   "metadata": {},
   "source": [
    "### Hvis du kan se meldingen din kan du gå videre til [oppdrag_2](oppdrag_2.ipynb)"
   ]
  },
  {
   "attachments": {},
   "cell_type": "markdown",
   "metadata": {},
   "source": [
    "![Trening_1](../img/oppdrag/godt_jobba.png)\n"
   ]
  }
 ],
 "metadata": {
  "kernelspec": {
   "display_name": "Python 3",
   "language": "python",
   "name": "python3"
  },
  "language_info": {
   "codemirror_mode": {
    "name": "ipython",
    "version": 3
   },
   "file_extension": ".py",
   "mimetype": "text/x-python",
   "name": "python",
   "nbconvert_exporter": "python",
   "pygments_lexer": "ipython3",
   "version": "3.11.4"
  },
  "orig_nbformat": 4
 },
 "nbformat": 4,
 "nbformat_minor": 2
}
