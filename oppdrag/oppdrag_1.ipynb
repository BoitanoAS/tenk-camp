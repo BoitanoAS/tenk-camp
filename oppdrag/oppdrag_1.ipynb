{
 "cells": [
  {
   "attachments": {},
   "cell_type": "markdown",
   "metadata": {},
   "source": [
    "![Trening_1](../img/oppdrag/oppdrag_1_bilde.png)\n"
   ]
  },
  {
   "attachments": {},
   "cell_type": "markdown",
   "metadata": {},
   "source": [
    "![Trening_1](../img/oppdrag/oppdrag_1_txt.png)\n"
   ]
  },
  {
   "attachments": {},
   "cell_type": "markdown",
   "metadata": {},
   "source": [
    "### Klient-Server kommunikasjon"
   ]
  },
  {
   "attachments": {},
   "cell_type": "markdown",
   "metadata": {},
   "source": [
    "![client_server](../img/assets/client_server.png)\n"
   ]
  },
  {
   "attachments": {},
   "cell_type": "markdown",
   "metadata": {},
   "source": [
    "Klient-server-kommunikasjon er en måte datamaskiner snakker sammen på.\n",
    "\n",
    "Forestill deg at du er i et bibliotek og ønsker å låne en bok, dette blir ofte kalt en **Request**. Biblioteket har en bibliotekar (som er serveren) og deg selv (som er klienten). Du går til bibliotekaren og spør om boken du vil låne. Bibliotekaren sjekker om boken er tilgjengelig. Deretter gir bibliotekaren deg boken hvis den er tilgjengelig, dette blir ofte kalt en **Response**.\n",
    "\n",
    "I dette eksemplet er du klienten, fordi du ber om noe (boken) fra bibliotekaren (serveren). Bibliotekaren har informasjonen (bokens tilgjengelighet) og svarer på forespørselen din. Enten ved å gi deg boken, eller ved å si at den ikke er tilgjengelig.\n",
    "\n",
    "Kort oppsummert: Klient-server-kommunikasjon er når en datamaskin (klienten) ber om noe fra en annen datamaskin (serveren), som har informasjonen eller ressursene den trenger. Det er som å be om en bok fra bibliotekaren. \n",
    "\n",
    "* **klient** er den som spør om informasjon. For eksemepel en app eller nettleser\n",
    "* **server** er datamaskinen som leverer informasjonen.  \n",
    "\n",
    "En server kan gi informasjon til flere klienter samtidig. Heldivis har agent ``Gaupe`` satt opp en ny server for oss. Serveren tar imot meldinger og lagrer de. Dette gjør det mulig for oss å hente ut meldingne.\n",
    "\n",
    "Oppdraget går ut på å sende og hente ut meldinger. Vi må derfor tilpasse **requesten** vår til å sende informasjon til serveren, og derette lage en annen **request** som kan spørre serveren om en melding.\n",
    "\n"
   ]
  },
  {
   "attachments": {},
   "cell_type": "markdown",
   "metadata": {},
   "source": [
    "![client_server](../img/assets/client_server_many.png)\n"
   ]
  },
  {
   "attachments": {},
   "cell_type": "markdown",
   "metadata": {},
   "source": [
    "Siden det finnes en million måter å spørre en server om informasjon på, har noen smarte mennesker laget en felles protokoll slik at alle gjør det på omtrent samme måte. Denne protokollen heter **HTTP**, kort for hypertekstoverføringsprotokoll. **HTTP** er den mest populære måten å utveklse informasjon på over internett. \n",
    "\n",
    "En viktig del av protokollen er de ulike kodene som serveren svarer med for å si noe om den har informasjonen vi spør om eller ikke. Under finner du de mest populære kodene.\n",
    "\n",
    "| Statuskode | Beskrivelse                              |\n",
    "|------------|------------------------------------------|\n",
    "| 200        | OK - Forespørselen var vellykket         |\n",
    "| 400        | Forespørselen din har ugyldig format     |\n",
    "| 404        | Ressursen du spør etter finnes ikke      |\n",
    "| 500        | Serveren har gjort noe feil             |\n",
    "\n",
    "De er faktisk så populære at noen har funnet passende hundebilder til hver kode - kjenner du igjen noen koder fra listen over?\n",
    "\n",
    "![Trening_1](../img/assets/dogs.png)\n",
    "\n",
    "\n",
    "\n",
    "Agent ``Gaupe`` har selvfølgeig brukt denne protokollen på serveren sin, så når vi skal lage vår **Request** må vi gjøre det i henhold til **HTTP** protokollen. Vi skal altså lage en **HTTP-klient**."
   ]
  },
  {
   "cell_type": "code",
   "execution_count": 1,
   "metadata": {},
   "outputs": [],
   "source": [
    "#Todo: \n",
    "    \n",
    "# Lag variabel med url og send melding "
   ]
  },
  {
   "attachments": {},
   "cell_type": "markdown",
   "metadata": {},
   "source": [
    "#### Send en melding med HTTP\n",
    "La oss sjekke om serveren er oppe å kjører, dett gjør man som regel ved å sende en tom request til serveren. Hvis agent ``Gaupe`` har satt opp serveren korrekt skal den gi oss statuskode 200 tilbake "
   ]
  },
  {
   "cell_type": "code",
   "execution_count": 2,
   "metadata": {},
   "outputs": [
    {
     "name": "stdout",
     "output_type": "stream",
     "text": [
      "200\n",
      "Status: 200 and reason: OK\n"
     ]
    }
   ],
   "source": [
    "import http.client\n",
    "\n",
    "connection = http.client.HTTPSConnection(\"www.vg.no\")\n",
    "connection.request(\"GET\", \"/\")\n",
    "response = connection.getresponse()\n",
    "print(response.status)\n",
    "print(\"Status: {} and reason: {}\".format(response.status, response.reason))\n",
    "\n",
    "connection.close()"
   ]
  },
  {
   "cell_type": "code",
   "execution_count": 5,
   "metadata": {},
   "outputs": [],
   "source": [
    "# TODO - legg til seksjon der man henter ut en melding"
   ]
  },
  {
   "attachments": {},
   "cell_type": "markdown",
   "metadata": {},
   "source": [
    "Hvis du fikk en 200 kode fra serveren er den klar til å motta meldingen vår. La oss legge til en melding som serveren skal lagre i **Requesten** vår"
   ]
  },
  {
   "cell_type": "code",
   "execution_count": 4,
   "metadata": {},
   "outputs": [
    {
     "ename": "ModuleNotFoundError",
     "evalue": "No module named 'requests'",
     "output_type": "error",
     "traceback": [
      "\u001b[0;31m---------------------------------------------------------------------------\u001b[0m",
      "\u001b[0;31mModuleNotFoundError\u001b[0m                       Traceback (most recent call last)",
      "Cell \u001b[0;32mIn[4], line 1\u001b[0m\n\u001b[0;32m----> 1\u001b[0m \u001b[39mimport\u001b[39;00m \u001b[39mrequests\u001b[39;00m\n\u001b[1;32m      3\u001b[0m url \u001b[39m=\u001b[39m \u001b[39m\"\u001b[39m\u001b[39mhttps://eksempel.com/melding\u001b[39m\u001b[39m\"\u001b[39m\n\u001b[1;32m      4\u001b[0m navn \u001b[39m=\u001b[39m \u001b[39m\"\u001b[39m\u001b[39m\"\u001b[39m\n",
      "\u001b[0;31mModuleNotFoundError\u001b[0m: No module named 'requests'"
     ]
    }
   ],
   "source": [
    "import requests\n",
    "\n",
    "url = \"https://eksempel.com/melding\"\n",
    "navn = \"\"\n",
    "beskjed = \"\" \n",
    "\n",
    "data = {\n",
    "    \"navn\": navn,\n",
    "    \"beskjed\": beskjed\n",
    "}\n",
    "\n",
    "response = requests.post(url, data=data)\n",
    "print(\"Melding sendt!\")"
   ]
  },
  {
   "attachments": {},
   "cell_type": "markdown",
   "metadata": {},
   "source": [
    "Kan du se meldingen din på skjermen? Det betyr at serveren har mottat og lagret denne. Hvis du ikke kunne sett meldingen på skjermen, hvordan kunne du vist om serveren mottok meldingen din?\n",
    "\n",
    "\n",
    "\n",
    "\n",
    "\n",
    " **Hint** statuskoder"
   ]
  },
  {
   "attachments": {},
   "cell_type": "markdown",
   "metadata": {},
   "source": [
    "### Hvis du kan se meldingen din kan du gå videre til [oppdrag_2](oppdrag_2.ipynb)"
   ]
  },
  {
   "attachments": {},
   "cell_type": "markdown",
   "metadata": {},
   "source": [
    "![Trening_1](../img/oppdrag/godt_jobba.png)\n"
   ]
  }
 ],
 "metadata": {
  "kernelspec": {
   "display_name": "Python 3",
   "language": "python",
   "name": "python3"
  },
  "language_info": {
   "codemirror_mode": {
    "name": "ipython",
    "version": 3
   },
   "file_extension": ".py",
   "mimetype": "text/x-python",
   "name": "python",
   "nbconvert_exporter": "python",
   "pygments_lexer": "ipython3",
   "version": "3.11.2"
  },
  "orig_nbformat": 4
 },
 "nbformat": 4,
 "nbformat_minor": 2
}
