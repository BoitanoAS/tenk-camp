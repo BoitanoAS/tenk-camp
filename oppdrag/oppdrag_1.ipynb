{
 "cells": [
  {
   "attachments": {},
   "cell_type": "markdown",
   "metadata": {},
   "source": [
    "![Trening_1](../img/oppdrag/oppdrag_1_bilde.png)\n"
   ]
  },
  {
   "attachments": {},
   "cell_type": "markdown",
   "metadata": {},
   "source": [
    "![Trening_1](../img/oppdrag/oppdrag_1_txt.png)\n"
   ]
  },
  {
   "attachments": {},
   "cell_type": "markdown",
   "metadata": {},
   "source": [
    "### Klient-Server kommunikasjon"
   ]
  },
  {
   "attachments": {},
   "cell_type": "markdown",
   "metadata": {},
   "source": [
    "![client_server](../img/assets/client_server.png)\n"
   ]
  },
  {
   "attachments": {},
   "cell_type": "markdown",
   "metadata": {},
   "source": [
    "## Først litt info\n",
    "\n",
    "Datamaskiner snakker sammen ved å bruke Klient-server-kommunikasjon. \n",
    "\n",
    "Når du er på biblioteket og ønsker å låne en bok, gjør du det vi kaller en **Request**. Bibliotekaren sjekker om boken er tilgjengelig og gir deg et svar. Dette kalles en **Response**. I responsen får du vite om boka er ledig eller ikke. I dette eksempelet er du klienten (den som spør) og bibliotekaren serveren (den som svarer)\n",
    "\n",
    "* **klient** er den som spør om informasjon. For eksempel en app eller nettleser\n",
    "* **server** er datamaskinen som leverer informasjonen \n",
    "\n",
    "For å gjøre dette i Python bruker vi `requests` pakken. Siden vi er interessert i å *hente* informasjon fra serveren legger vi til `get` (eller hent på norsk).\n",
    "\n",
    "For å hente noe på internett, må vi vite hvor informasjonen befinner seg. Serveren vi bruker finner du på denne adressen:\n",
    "`https://tenk-server.fly.dev/`\n",
    "\n",
    "I koden under har vi satt sammen alle disse tingene, kjør blokken for å se hva som skjer"
   ]
  },
  {
   "cell_type": "code",
   "execution_count": null,
   "metadata": {},
   "outputs": [],
   "source": [
    "import requests\n",
    "server_adresse = \"https://tenk-server.fly.dev/\"\n",
    "\n",
    "response = requests.get(server_adresse)\n",
    "print(response)"
   ]
  },
  {
   "attachments": {},
   "cell_type": "markdown",
   "metadata": {},
   "source": [
    "Godt jobba! Du har fått det første svaret ditt fra serveren.\n",
    "\n",
    "Men hva betyr egentlig `<Response [200]>`??"
   ]
  },
  {
   "attachments": {},
   "cell_type": "markdown",
   "metadata": {},
   "source": [
    "\n",
    "## Litt mer info \n",
    "\n",
    "Det finnes mange måter å kommunisere med en server på. I disse oppgavene bruker vi **HTTP**, kort for hyper-tekst-overførings-protokoll. **HTTP** er den mest populære måten å utveklse informasjon på over internett. \n",
    "\n",
    "En viktig del av **HTTP** er de ulike kodene som serveren svarer med for å si noe om den har informasjonen vi spør om eller ikke. Under finner du de mest brukte kodene.\n",
    "\n",
    "| Statuskode | Beskrivelse                              |\n",
    "|------------|------------------------------------------|\n",
    "| 200        | OK - Forespørselen var vellykket         |\n",
    "| 400        | Forespørselen din har ugyldig format     |\n",
    "| 404        | Informasjonen du spør etter finnes ikke      |\n",
    "| 500        | Det er noe galt med serveren             |\n",
    "\n"
   ]
  },
  {
   "attachments": {},
   "cell_type": "markdown",
   "metadata": {},
   "source": [
    "#### Send en melding med HTTP\n",
    "På forrige request vi sendte fikk vi en 200 response som sa at forespørselen vår var vellykket. Men vi så ikke noe informasjon, det er fordi denne er lagret i en [dictionary](oppdrag/trening.ipynb). Under viser vi ett eksempel på hvordan man kan skrive ut informasjonen som serveren har gitt oss"
   ]
  },
  {
   "cell_type": "code",
   "execution_count": null,
   "metadata": {},
   "outputs": [],
   "source": [
    "import requests\n",
    "server_adresse = \"https://tenk-server.fly.dev/\"\n",
    "\n",
    "dictionary_med_meldinger = requests.get(server_adresse).json()\n",
    "for melding in dictionary_med_meldinger:\n",
    "    print(melding)\n"
   ]
  },
  {
   "attachments": {},
   "cell_type": "markdown",
   "metadata": {},
   "source": [
    "Nå som vi klarer å hente ut informasjon med `get` kommandoen er det på tide å sende informasjon til serveren.\n",
    "Dette gjøres med `post` kommandoen. \n",
    "\n",
    "\n",
    "Når vi bruker `post` i requesten kan vi se for oss at vi sender med ett brev til serveren som innholder informasjon. Informasjonen kaller vi data. For at serveren skal forstå dataen vi sender, må vi sende eb [dictionary](oppdrag/trening.ipynb), slik vi lærte om i treningen.\n",
    "\n",
    "\n",
    "*Test å sende data til serveren i eksempelet under*\n",
    "\n",
    "Vi bruker igjen `requests` pakken, men denne gangen med `post` kommandoen. `post` kommandoen forventer at vi gir den en server adresse og en datapakke som inneholder informasjon i en dictionary. "
   ]
  },
  {
   "cell_type": "code",
   "execution_count": null,
   "metadata": {},
   "outputs": [],
   "source": [
    "import requests\n",
    "\n",
    "server_adresse = \"https://tenk-server.fly.dev/\"\n",
    "\n",
    "navn = \"Python\"\n",
    "beskjed = \"Notebook\" \n",
    "\n",
    "data = {\n",
    "    \"name\": navn,\n",
    "    \"text\": beskjed\n",
    "}\n",
    "\n",
    "response = requests.post(server_adresse, data=data)\n",
    "print(\"Melding sendt!\")\n"
   ]
  },
  {
   "attachments": {},
   "cell_type": "markdown",
   "metadata": {},
   "source": [
    "Kan du se meldingen din på skjermen? Det betyr at serveren har mottat og lagret denne. Hvis du ikke kunne sett meldingen på skjermen, hvordan kunne du vist om serveren mottok meldingen din?\n",
    "\n",
    "\n",
    "\n",
    "\n",
    "\n",
    " **Hint** statuskoder"
   ]
  },
  {
   "attachments": {},
   "cell_type": "markdown",
   "metadata": {},
   "source": [
    "#### Chat client\n",
    "Vi ønsker å fange opp alle meldinger som blir sendt til den nye serveren, slik at vi spionere. \n",
    "\n",
    "Istedet for å spørre serveren om informasjon hele tiden, kan vi lytte hele tiden. For å gjøre det bruker vi en teknologi som heter **web-sockets**. \n",
    "\n",
    "Å bruke **HTTP klienten** kan sammenlignes med å sende brev og deretter måtte vente på svar. web-sockets er mer som en walkie-talkie. Hvis noen snakker i sin walkie-talkie hører du det med en gang!\n",
    "\n",
    "Vi skal nå lage en chat-client som får inn alle meldingene ved hjelp av **web-sockets**. Kjør koden i cellene under for å teste det ut. "
   ]
  },
  {
   "cell_type": "code",
   "execution_count": null,
   "metadata": {},
   "outputs": [],
   "source": [
    "import socketio\n",
    "sio = socketio.Client()\n",
    "\n",
    "server_adresse = \"https://tenk-server.fly.dev/\"\n",
    "\n",
    "@sio.on('messages')\n",
    "def lytt_etter_melding(data):\n",
    "    print(\"Vi får data fra serveren!\")\n",
    "    for melding in data:\n",
    "        print(melding)\n",
    "\n",
    "# Koble til serveren\n",
    "sio.connect(server_adresse)\n",
    "# Send melding til serveren\n",
    "sio.emit('newMessage', {'name': \"hei\", 'text': \"test\"})\n",
    "sio.disconnect()"
   ]
  },
  {
   "attachments": {},
   "cell_type": "markdown",
   "metadata": {},
   "source": [
    "Vi kan også sende meldinger med web-sockets. Her vil du se at de dukker opp på skjermen. I tillegg vil du kunne lese alle de andre meldingene som har kommet inn."
   ]
  },
  {
   "cell_type": "code",
   "execution_count": null,
   "metadata": {},
   "outputs": [],
   "source": [
    "import socketio\n",
    "\n",
    "navn = \"FYLL INN NAVN\"\n",
    "\n",
    "sio = socketio.Client()\n",
    "server_adresse = \"https://tenk-server.fly.dev/\"\n",
    "\n",
    "sio.connect(server_adresse)\n",
    "\n",
    "@sio.on('messages')\n",
    "def lytt_etter_melding(data):\n",
    "    print(\"Vi får data fra serveren!\")\n",
    "    for melding in data:\n",
    "        print(melding)\n",
    "\n",
    "\n",
    "while True:\n",
    "    # Hent tekst fra feltet under\n",
    "    input_fra_bruker = input(\"Skriv inn en melding (skriv stopp for å avslutte): \")\n",
    "    # Hvis du skriver stopp, så hopper vi ut av while løkken og programmet avsluttes\n",
    "    if input_fra_bruker.lower() == \"stopp\":\n",
    "        break\n",
    "    else:\n",
    "        # Send melding til serveren\n",
    "        sio.emit('newMessage', {'name': navn, 'text': input_fra_bruker})\n",
    "\n",
    "\n",
    "sio.disconnect()"
   ]
  },
  {
   "attachments": {},
   "cell_type": "markdown",
   "metadata": {},
   "source": [
    "### Hvis du kan se meldingen din kan du gå videre til [oppdrag_2](oppdrag_2.ipynb)"
   ]
  },
  {
   "attachments": {},
   "cell_type": "markdown",
   "metadata": {},
   "source": [
    "![Trening_1](../img/oppdrag/godt_jobba.png)\n"
   ]
  }
 ],
 "metadata": {
  "kernelspec": {
   "display_name": "Python 3",
   "language": "python",
   "name": "python3"
  },
  "language_info": {
   "codemirror_mode": {
    "name": "ipython",
    "version": 3
   },
   "file_extension": ".py",
   "mimetype": "text/x-python",
   "name": "python",
   "nbconvert_exporter": "python",
   "pygments_lexer": "ipython3",
   "version": "3.9.6"
  },
  "orig_nbformat": 4,
  "vscode": {
   "interpreter": {
    "hash": "31f2aee4e71d21fbe5cf8b01ff0e069b9275f58929596ceb00d14d90e3e16cd6"
   }
  }
 },
 "nbformat": 4,
 "nbformat_minor": 2
}
