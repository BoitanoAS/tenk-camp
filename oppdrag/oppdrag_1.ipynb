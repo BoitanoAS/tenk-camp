{
 "cells": [
  {
   "attachments": {},
   "cell_type": "markdown",
   "metadata": {},
   "source": [
    "![Trening_1](../img/oppdrag/oppdrag_1_bilde.png)\n"
   ]
  },
  {
   "attachments": {},
   "cell_type": "markdown",
   "metadata": {},
   "source": [
    "![Trening_1](../img/oppdrag/oppdrag_1_txt.png)\n"
   ]
  },
  {
   "attachments": {},
   "cell_type": "markdown",
   "metadata": {},
   "source": [
    "### Klient-Server kommunikasjon"
   ]
  },
  {
   "attachments": {},
   "cell_type": "markdown",
   "metadata": {},
   "source": [
    "TODO: Finn ut hva av dette som blir relevant. \n",
    "\n",
    "\n",
    "Når datamaskiner snakker med hverandre kaller vi det klient server kommunikasjon. \n",
    "\n",
    "En **klient** er den som spør om informasjon. For eksemepel en app eller nettleser\\\n",
    "En **server** er datamaskinen som leverer informasjonen.  \n",
    "\n",
    "Når disse datamaskinene snakker sammen bruker de et språk som heter **HTTP**. "
   ]
  },
  {
   "attachments": {},
   "cell_type": "markdown",
   "metadata": {},
   "source": [
    "I neste del skal vi lage en HTTP-klient som kan spørre en server om informasjon. "
   ]
  },
  {
   "cell_type": "code",
   "execution_count": 1,
   "metadata": {},
   "outputs": [],
   "source": [
    "#Todo: \n",
    "    \n",
    "# Lag variabel med url og send melding "
   ]
  },
  {
   "attachments": {},
   "cell_type": "markdown",
   "metadata": {},
   "source": [
    "#### Send en melding med HTTP"
   ]
  },
  {
   "cell_type": "code",
   "execution_count": 2,
   "metadata": {},
   "outputs": [
    {
     "name": "stdout",
     "output_type": "stream",
     "text": [
      "200\n",
      "Status: 200 and reason: OK\n"
     ]
    }
   ],
   "source": [
    "import http.client\n",
    "\n",
    "connection = http.client.HTTPSConnection(\"www.vg.no\")\n",
    "connection.request(\"GET\", \"/\")\n",
    "response = connection.getresponse()\n",
    "print(response.status)\n",
    "print(\"Status: {} and reason: {}\".format(response.status, response.reason))\n",
    "\n",
    "connection.close()"
   ]
  },
  {
   "cell_type": "code",
   "execution_count": null,
   "metadata": {},
   "outputs": [],
   "source": [
    "import requests\n",
    "\n",
    "url = \"https://eksempel.com/melding\"\n",
    "navn = \"\"\n",
    "beskjed = \"\" \n",
    "\n",
    "data = {\n",
    "    \"navn\": navn,\n",
    "    \"beskjed\": beskjed\n",
    "}\n",
    "\n",
    "response = requests.post(url, data=data)\n",
    "print(\"Melding sendt!\")"
   ]
  },
  {
   "attachments": {},
   "cell_type": "markdown",
   "metadata": {},
   "source": [
    "Kan du se meldingen din på skjermen? "
   ]
  },
  {
   "attachments": {},
   "cell_type": "markdown",
   "metadata": {},
   "source": [
    "TODO: Ikke sikkert dette er så viktig å ha med\n",
    "\n",
    "| Statuskode | Beskrivelse                              |\n",
    "|------------|------------------------------------------|\n",
    "| 200        | OK - Forespørselen var vellykket         |\n",
    "| 400        | Forespørselen din har ugyldig format     |\n",
    "| 404        | Ressursen du spør etter finnes ikke      |\n",
    "| 500        | Serveren har gjort noe feil             |"
   ]
  },
  {
   "attachments": {},
   "cell_type": "markdown",
   "metadata": {},
   "source": [
    "### Gå videre til [oppdrag_2](oppdrag_2.ipynb)"
   ]
  },
  {
   "attachments": {},
   "cell_type": "markdown",
   "metadata": {},
   "source": [
    "![Trening_1](../img/oppdrag/godt_jobba.png)\n"
   ]
  }
 ],
 "metadata": {
  "kernelspec": {
   "display_name": "Python 3",
   "language": "python",
   "name": "python3"
  },
  "language_info": {
   "codemirror_mode": {
    "name": "ipython",
    "version": 3
   },
   "file_extension": ".py",
   "mimetype": "text/x-python",
   "name": "python",
   "nbconvert_exporter": "python",
   "pygments_lexer": "ipython3",
   "version": "3.11.2"
  },
  "orig_nbformat": 4
 },
 "nbformat": 4,
 "nbformat_minor": 2
}
