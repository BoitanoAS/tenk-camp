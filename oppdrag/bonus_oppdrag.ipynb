{
 "cells": [
  {
   "attachments": {},
   "cell_type": "markdown",
   "metadata": {},
   "source": [
    "![Oppdrag_bonus](../img/oppdrag/oppdrag_bonus_bilde.png)\n"
   ]
  },
  {
   "attachments": {},
   "cell_type": "markdown",
   "metadata": {},
   "source": [
    "#### Løs den hemmelige Boitano koden.... "
   ]
  },
  {
   "attachments": {},
   "cell_type": "markdown",
   "metadata": {},
   "source": [
    "Det er noen i Boitano som prøver å sende deg en hemmelig beskjed, men vil ikke at noen andre skal se innholdet. \n",
    "\n",
    "Filtrer meldingene slik at du kun mottar meldinger fra Boitano. \n",
    "\n",
    "Hint: Bruk en if-blokk som vi lærte om i Del 1. \n",
    "\n",
    "Deretter må du dekryptere meldingen. Meldingen gir deg et hint om veien videre. "
   ]
  },
  {
   "cell_type": "code",
   "execution_count": null,
   "metadata": {},
   "outputs": [],
   "source": [
    "import asyncio\n",
    "import websockets\n",
    "import nest_asyncio\n",
    "nest_asyncio.apply()\n",
    "__import__('IPython').embed()\n",
    " \n",
    "async def test():\n",
    "    async with websockets.connect('wss://demo.piesocket.com/v3/channel_1?api_key=YOUR_API_KEY') as websocket:\n",
    "        await websocket.send(\"hello\")\n",
    "        response = await websocket.recv()\n",
    "        print(response)\n",
    " \n",
    "asyncio.get_event_loop().run_until_complete(test())"
   ]
  }
 ],
 "metadata": {
  "language_info": {
   "name": "python"
  },
  "orig_nbformat": 4
 },
 "nbformat": 4,
 "nbformat_minor": 2
}
