{
 "cells": [
  {
   "attachments": {},
   "cell_type": "markdown",
   "metadata": {},
   "source": [
    "![Oppdrag_bonus](../img/oppdrag/oppdrag_bonus_bilde.png)\n"
   ]
  },
  {
   "attachments": {},
   "cell_type": "markdown",
   "metadata": {},
   "source": [
    "![Oppdrag_bonus_txt](../img/oppdrag/oppdrag_bonus_txt.png)\n"
   ]
  },
  {
   "cell_type": "code",
   "execution_count": 1,
   "metadata": {},
   "outputs": [
    {
     "ename": "ModuleNotFoundError",
     "evalue": "No module named 'socketio'",
     "output_type": "error",
     "traceback": [
      "\u001b[0;31m---------------------------------------------------------------------------\u001b[0m",
      "\u001b[0;31mModuleNotFoundError\u001b[0m                       Traceback (most recent call last)",
      "Cell \u001b[0;32mIn[1], line 1\u001b[0m\n\u001b[0;32m----> 1\u001b[0m \u001b[39mimport\u001b[39;00m \u001b[39msocketio\u001b[39;00m\n\u001b[1;32m      2\u001b[0m sio \u001b[39m=\u001b[39m socketio\u001b[39m.\u001b[39mClient()\n\u001b[1;32m      4\u001b[0m url \u001b[39m=\u001b[39m \u001b[39m\"\u001b[39m\u001b[39mhttps://tenk-server.fly.dev/\u001b[39m\u001b[39m\"\u001b[39m\n",
      "\u001b[0;31mModuleNotFoundError\u001b[0m: No module named 'socketio'"
     ]
    }
   ],
   "source": [
    "from hjelpemidler.kryptering import *\n",
    "import socketio\n",
    "sio = socketio.Client()\n",
    "\n",
    "server_adresse = \"https://tenk-server.fly.dev/\"\n",
    "\n",
    "@sio.on('messages')\n",
    "def on_message(data):\n",
    "    # [Agent eiluJ]: Jeg tror vi må legge til kode her!\n",
    "    print(\"Vi får data fra serveren!\")\n",
    "    for event in data:\n",
    "        print(event)\n",
    "        \n",
    "@sio.event\n",
    "def connect():\n",
    "    print(\"Jeg er koblet til!\")\n",
    "    \n",
    "@sio.on('message')\n",
    "def on_message(data):\n",
    "    print(data)\n",
    "    \n",
    "\n",
    "sio.connect(url)"
   ]
  }
 ],
 "metadata": {
  "kernelspec": {
   "display_name": "Python 3",
   "language": "python",
   "name": "python3"
  },
  "language_info": {
   "codemirror_mode": {
    "name": "ipython",
    "version": 3
   },
   "file_extension": ".py",
   "mimetype": "text/x-python",
   "name": "python",
   "nbconvert_exporter": "python",
   "pygments_lexer": "ipython3",
   "version": "3.11.4"
  },
  "orig_nbformat": 4
 },
 "nbformat": 4,
 "nbformat_minor": 2
}
