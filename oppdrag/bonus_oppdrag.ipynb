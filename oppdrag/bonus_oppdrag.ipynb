{
 "cells": [
  {
   "attachments": {},
   "cell_type": "markdown",
   "metadata": {},
   "source": [
    "![Oppdrag_bonus](../img/oppdrag/oppdrag_bonus_bilde.png)\n"
   ]
  },
  {
   "attachments": {},
   "cell_type": "markdown",
   "metadata": {},
   "source": [
    "![Oppdrag_bonus_txt](../img/oppdrag/oppdrag_bonus_txt.png)\n"
   ]
  },
  {
   "cell_type": "code",
   "execution_count": null,
   "metadata": {},
   "outputs": [],
   "source": [
    "import asyncio\n",
    "import websockets\n",
    "import nest_asyncio\n",
    "nest_asyncio.apply()\n",
    "__import__('IPython').embed()\n",
    " \n",
    "async def test():\n",
    "    async with websockets.connect('wss://demo.piesocket.com/v3/channel_1?api_key=YOUR_API_KEY') as websocket:\n",
    "        await websocket.send(\"hello\")\n",
    "        response = await websocket.recv()\n",
    "        print(response)\n",
    " \n",
    "asyncio.get_event_loop().run_until_complete(test())"
   ]
  }
 ],
 "metadata": {
  "language_info": {
   "name": "python"
  },
  "orig_nbformat": 4
 },
 "nbformat": 4,
 "nbformat_minor": 2
}
