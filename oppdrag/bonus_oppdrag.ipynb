{
 "cells": [
  {
   "attachments": {},
   "cell_type": "markdown",
   "metadata": {},
   "source": [
    "![Oppdrag_bonus](../img/oppdrag/oppdrag_bonus_bilde.png)\n"
   ]
  },
  {
   "attachments": {},
   "cell_type": "markdown",
   "metadata": {},
   "source": [
    "![Oppdrag_bonus_txt](../img/oppdrag/oppdrag_bonus_txt.png)\n"
   ]
  },
  {
   "cell_type": "code",
   "execution_count": null,
   "metadata": {},
   "outputs": [],
   "source": []
  },
  {
   "cell_type": "code",
   "execution_count": null,
   "metadata": {},
   "outputs": [],
   "source": [
    "from hjelpemidler.kryptering import *\n",
    "import requests\n",
    "\n",
    "server_adresse = \"https://tenk-server.fly.dev/\"\n",
    "navn = \"\"\n",
    "dictionary_med_meldinger = requests.get(server_adresse).json()\n",
    "for dictionary_med_meldinger in data:\n",
    "    if melding[\"name\"] == navn: # her må vi ha ett navn\n",
    "        # HUSK å dekryptere meldingen som kommer, bruk \n",
    "        print(melding[\"name\"])\n",
    "        print(melding[\"text\"])\n"
   ]
  },
  {
   "cell_type": "markdown",
   "metadata": {},
   "source": []
  }
 ],
 "metadata": {
  "kernelspec": {
   "display_name": "Python 3",
   "language": "python",
   "name": "python3"
  },
  "language_info": {
   "codemirror_mode": {
    "name": "ipython",
    "version": 3
   },
   "file_extension": ".py",
   "mimetype": "text/x-python",
   "name": "python",
   "nbconvert_exporter": "python",
   "pygments_lexer": "ipython3",
   "version": "3.11.4"
  },
  "orig_nbformat": 4
 },
 "nbformat": 4,
 "nbformat_minor": 2
}
