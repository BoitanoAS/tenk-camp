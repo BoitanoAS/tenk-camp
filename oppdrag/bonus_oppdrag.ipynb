{
 "cells": [
  {
   "attachments": {},
   "cell_type": "markdown",
   "metadata": {},
   "source": [
    "![Oppdrag_bonus](../img/oppdrag/oppdrag_bonus_bilde.png)\n"
   ]
  },
  {
   "attachments": {},
   "cell_type": "markdown",
   "metadata": {},
   "source": [
    "![Oppdrag_bonus_txt](../img/oppdrag/oppdrag_bonus_txt.png)\n"
   ]
  },
  {
   "cell_type": "code",
   "execution_count": null,
   "metadata": {},
   "outputs": [],
   "source": [
    "from hjelpemidler.kryptering import *\n",
    "import socketio\n",
    "sio = socketio.Client()\n",
    "\n",
    "server_adresse = \"https://tenk-server.fly.dev/\"\n",
    "\n",
    "@sio.on('messages')\n",
    "def on_message(data):\n",
    "    # [Agent eiluJ]: Jeg tror vi må legge til kode her!\n",
    "    print(\"Vi får data fra serveren!\")\n",
    "    for event in data:\n",
    "        print(event)\n",
    "        \n",
    "@sio.event\n",
    "def connect():\n",
    "    print(\"Jeg er koblet til!\")\n",
    "    \n",
    "@sio.on('message')\n",
    "def on_message(data):\n",
    "    print(data)\n",
    "    \n",
    "\n",
    "sio.connect(server_adresse)"
   ]
  }
 ],
 "metadata": {
  "kernelspec": {
   "display_name": "Python 3",
   "language": "python",
   "name": "python3"
  },
  "language_info": {
   "codemirror_mode": {
    "name": "ipython",
    "version": 3
   },
   "file_extension": ".py",
   "mimetype": "text/x-python",
   "name": "python",
   "nbconvert_exporter": "python",
   "pygments_lexer": "ipython3",
   "version": "3.11.4"
  },
  "orig_nbformat": 4
 },
 "nbformat": 4,
 "nbformat_minor": 2
}
