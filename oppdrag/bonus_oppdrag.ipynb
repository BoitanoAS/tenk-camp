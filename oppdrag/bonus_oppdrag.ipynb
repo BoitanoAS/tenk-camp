{
 "cells": [
  {
   "attachments": {},
   "cell_type": "markdown",
   "metadata": {},
   "source": [
    "![Oppdrag_bonus](../img/oppdrag/oppdrag_bonus_bilde.png)\n"
   ]
  },
  {
   "attachments": {},
   "cell_type": "markdown",
   "metadata": {},
   "source": [
    "![Oppdrag_bonus_txt](../img/oppdrag/oppdrag_bonus_txt.png)\n"
   ]
  },
  {
   "attachments": {},
   "cell_type": "markdown",
   "metadata": {},
   "source": [
    "Vi har hjulpet deg litt på vei. Men du må huske å finne riktig navn. "
   ]
  },
  {
   "cell_type": "code",
   "execution_count": null,
   "metadata": {},
   "outputs": [],
   "source": [
    "from hjelpemidler.kryptering import *\n",
    "import requests\n",
    "\n",
    "server_adresse = \"https://tenk-server.fly.dev/\"\n",
    "\n",
    "\n",
    "dictionary_med_meldinger = requests.get(server_adresse).json()\n",
    "for melding in dictionary_med_meldinger:\n",
    "\n",
    "    if melding[\"name\"] == ?:  #navn_vi_leter_etter\n",
    "        \n",
    "        print(melding[\"name\"])\n",
    "        print(melding[\"text\"])\n"
   ]
  },
  {
   "attachments": {},
   "cell_type": "markdown",
   "metadata": {},
   "source": [
    "Kopier innholdet du fant over og dekrypter de i boksen under for å finne riktig beskjed. Du må selv finne ut hvilke meldinger som skal i hvilken funksjon. "
   ]
  },
  {
   "cell_type": "code",
   "execution_count": null,
   "metadata": {},
   "outputs": [],
   "source": [
    "print(base64_kryptering())\n",
    "print(baklengs_kryptering())\n",
    "print(krypter())"
   ]
  },
  {
   "attachments": {},
   "cell_type": "markdown",
   "metadata": {},
   "source": [
    "## Tell meldinger fra deg selv\n",
    "\n",
    "Husker du hvor mange meldinger du har sendt? Kanskje vi kan finne ut av det. Bruk koden under til å telle opp alle meldingene med ditt navn. "
   ]
  },
  {
   "cell_type": "code",
   "execution_count": null,
   "metadata": {},
   "outputs": [],
   "source": [
    "from hjelpemidler.kryptering import *\n",
    "import requests\n",
    "\n",
    "server_adresse = \"https://tenk-server.fly.dev/\"\n",
    "\n",
    "teller = 0\n",
    "\n",
    "\n",
    "dictionary_med_meldinger = requests.get(server_adresse).json()\n",
    "for melding in dictionary_med_meldinger:\n",
    "\n",
    "    if melding[\"name\"] == ?:  #navn_vi_leter_etter\n",
    "        \n",
    "        # Hvordan kan du telle opp meldingene? \n",
    "        # Hint: bruk telleren og operasjonen += "
   ]
  }
 ],
 "metadata": {
  "kernelspec": {
   "display_name": "Python 3",
   "language": "python",
   "name": "python3"
  },
  "language_info": {
   "codemirror_mode": {
    "name": "ipython",
    "version": 3
   },
   "file_extension": ".py",
   "mimetype": "text/x-python",
   "name": "python",
   "nbconvert_exporter": "python",
   "pygments_lexer": "ipython3",
   "version": "3.9.6"
  },
  "orig_nbformat": 4,
  "vscode": {
   "interpreter": {
    "hash": "31f2aee4e71d21fbe5cf8b01ff0e069b9275f58929596ceb00d14d90e3e16cd6"
   }
  }
 },
 "nbformat": 4,
 "nbformat_minor": 2
}
