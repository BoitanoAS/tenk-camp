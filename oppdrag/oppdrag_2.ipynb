{
 "cells": [
  {
   "attachments": {},
   "cell_type": "markdown",
   "metadata": {},
   "source": [
    "![Oppdrag_2](../img/oppdrag/oppdrag_2_bilde.png)\n"
   ]
  },
  {
   "attachments": {},
   "cell_type": "markdown",
   "metadata": {},
   "source": [
    "![Oppdrag_2_txt2](../img/oppdrag/oppdrag_2_txt.png)\n"
   ]
  },
  {
   "attachments": {},
   "cell_type": "markdown",
   "metadata": {},
   "source": [
    "### Kryptering\n",
    "\n",
    "Når vi sender meldinger på internett vil vi ikke at hvem som helst skal kunne lese de. Da kan vi bruke kryptering for å gjøre det vanskelig å tyde meldingen.\n",
    "\n",
    "Når du krypterer en melding, endrer du den på en spesiell måte slik at den blir vanskelig å forstå for noen som ikke har nøkkelen til å dekode den. Det er som å bruke en hemmelig kode som bare du og en annen agent kjenner til. \n",
    "\n",
    "For eksempel kan du bytte ut bokstavene i meldingen din med andre bokstaver eller tall basert på en bestemt regel. Så sender du den krypterte meldingen til agenten.\n",
    "Når agenten får den krypterte meldingen, bruker agenten den samme regelen eller nøkkelen til å reversere endringene og gjøre meldingen forståelig igjen. Bare agenten, som kjenner koden, kan dekode og lese meldingen.\n",
    "\n",
    "\n",
    "![Oppdrag_2_txt2](../img/assets/kryptering.png)\n",
    "\n",
    "\n",
    "Kort oppsummert: Kryptering handler om å gjøre informasjonen din hemmelig ved å endre den på en spesiell måte. Bare den riktige personen med den riktige nøkkelen kan dekode og lese den. Dette hjelper med å beskytte meldingene våre mot de onsinnede hackerene.\n"
   ]
  },
  {
   "attachments": {},
   "cell_type": "markdown",
   "metadata": {},
   "source": [
    "#### Test ut kryptering og dekryptering i boksene under\n",
    "Krypteringsregler kan være morsomme og finne opp, men er ofte tidkrevende. Vi har derfor fått hjelp av spesialagent ``Eiluj``, som har laget endel regler vi kan kryptere meldingene våre med. Koden for å gjøre dette finner dere under [hjelpemidler](hjelpemidler/kryptering.py) mappen. Ta gjerne en kikk hvis du er nysgjerrige på reglene.\n",
    "\n",
    "Nå, la oss teste ut reglene ``Eiluj`` har laget ved å kjøre cellene under"
   ]
  },
  {
   "cell_type": "code",
   "execution_count": null,
   "metadata": {},
   "outputs": [],
   "source": [
    "from hjelpemidler.kryptering import *\n",
    "\n",
    "kryptert_tekst = krypter('hallo')\n",
    "\n",
    "print(kryptert_tekst)"
   ]
  },
  {
   "attachments": {},
   "cell_type": "markdown",
   "metadata": {},
   "source": [
    "Du kan dekryptere koden ved å putte teksten inn i `dekrypter` funksjonen."
   ]
  },
  {
   "cell_type": "code",
   "execution_count": null,
   "metadata": {},
   "outputs": [],
   "source": [
    "# sett inn den krypterte teksten i parantesene under. Husk hvilken data type vi bruker. \n",
    "\n",
    "print(dekrypter( ))"
   ]
  },
  {
   "attachments": {},
   "cell_type": "markdown",
   "metadata": {},
   "source": [
    "#### Test forksjellige krypteringsmetoder\n",
    "\n",
    "Vi har laget noen forskjellige måter å kryptere på. Test de ulike funksjonene i boksen under. "
   ]
  },
  {
   "cell_type": "code",
   "execution_count": null,
   "metadata": {},
   "outputs": [],
   "source": [
    "print(base64_kryptering(\"Boitano\"))\n",
    "print(baklengs_kryptering(\"TENK tech camp\"))\n",
    "print(krypter(\"Python er kult\"))"
   ]
  },
  {
   "attachments": {},
   "cell_type": "markdown",
   "metadata": {},
   "source": [
    "Disse kan du dekyptere igjen ved å putte de inn i de tilhørende dekrypteringsfunksjonene"
   ]
  },
  {
   "cell_type": "code",
   "execution_count": null,
   "metadata": {},
   "outputs": [],
   "source": [
    "print(base64_dekryptering( ))\n",
    "print(baklengs_dekryptering( ))\n",
    "print(dekrypter( ))"
   ]
  },
  {
   "attachments": {},
   "cell_type": "markdown",
   "metadata": {},
   "source": [
    "#### Send en kryptert til serveren, du velger selv hvordan du vil kryptere den  \n",
    "Bruk funksjonene fra forrige oppgave og send en kryptert melding"
   ]
  },
  {
   "cell_type": "code",
   "execution_count": null,
   "metadata": {},
   "outputs": [],
   "source": [
    "# Skriv koden her"
   ]
  },
  {
   "attachments": {},
   "cell_type": "markdown",
   "metadata": {},
   "source": [
    "#### Lytt på andre meldinger \n",
    "\n",
    "Nå skal vi koble oss på serveren, slik at vi mottar alle meldingene som blir sendt. Bruk koden du laget i oppdrag 1\n",
    "\n"
   ]
  },
  {
   "cell_type": "code",
   "execution_count": null,
   "metadata": {},
   "outputs": [],
   "source": []
  },
  {
   "attachments": {},
   "cell_type": "markdown",
   "metadata": {},
   "source": [
    "#### Dekypter meldingene \n",
    "\n",
    "Er noen av meldingen du får kryptert? Bruk funksjonene fra oppgavene i dette oppdraget for å se innholdet. Det kan hende at du må prøve flere ulike dekrypteringsfunksjoner\n"
   ]
  },
  {
   "cell_type": "code",
   "execution_count": 1,
   "metadata": {},
   "outputs": [],
   "source": [
    "# Velg noe meldinger og bruk dekrypteringsfunksjonene for å tyde de"
   ]
  },
  {
   "attachments": {},
   "cell_type": "markdown",
   "metadata": {},
   "source": [
    "Klarer du å bruke dekrypterings funksjonen til å finne det egentlige navet på agent ``Eiluj``? \n",
    "Prøv i boksen under"
   ]
  },
  {
   "cell_type": "code",
   "execution_count": null,
   "metadata": {},
   "outputs": [],
   "source": [
    "# Finn navnet til agenten\n",
    "agent = \"eiluj\""
   ]
  },
  {
   "attachments": {},
   "cell_type": "markdown",
   "metadata": {},
   "source": [
    "### 🌟 GODT JOBBA! Vi har nå sikker kommunikasjon til agentene vår ut i felt. Hvis du har lyst på en ekstra agentstjerne gå videre til [Bonus_Oppgaven](bonus_oppdrag.ipynb) 🌟"
   ]
  },
  {
   "attachments": {},
   "cell_type": "markdown",
   "metadata": {},
   "source": [
    "![Trening_1](../img/oppdrag/godt_jobba.png)\n"
   ]
  }
 ],
 "metadata": {
  "kernelspec": {
   "display_name": "Python 3",
   "language": "python",
   "name": "python3"
  },
  "language_info": {
   "codemirror_mode": {
    "name": "ipython",
    "version": 3
   },
   "file_extension": ".py",
   "mimetype": "text/x-python",
   "name": "python",
   "nbconvert_exporter": "python",
   "pygments_lexer": "ipython3",
   "version": "3.11.4"
  },
  "orig_nbformat": 4
 },
 "nbformat": 4,
 "nbformat_minor": 2
}
