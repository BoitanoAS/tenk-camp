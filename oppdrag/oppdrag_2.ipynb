{
 "cells": [
  {
   "attachments": {},
   "cell_type": "markdown",
   "metadata": {},
   "source": [
    "![Oppdrag_2](../img/oppdrag/oppdrag_2_bilde.png)\n"
   ]
  },
  {
   "attachments": {},
   "cell_type": "markdown",
   "metadata": {},
   "source": [
    "![Oppdrag_2_txt](../img/oppdrag/oppdrag_2_txt.png)\n"
   ]
  },
  {
   "attachments": {},
   "cell_type": "markdown",
   "metadata": {},
   "source": [
    "### Kryptering\n",
    "\n",
    "Når vi sender meldinger på internett vil vi ikke at hvem som helst skal kunne lese de. Da kan vi kryptere meldingen slik at kun den som har dekypteringsnøkkelen kan tyde innholdet. La oss teste! "
   ]
  },
  {
   "attachments": {},
   "cell_type": "markdown",
   "metadata": {},
   "source": [
    "#### Test ut kryptering og dekryptering i boksene under"
   ]
  },
  {
   "cell_type": "code",
   "execution_count": null,
   "metadata": {
    "vscode": {
     "languageId": "plaintext"
    }
   },
   "outputs": [],
   "source": [
    "from kryptering import *\n",
    "\n",
    "kryptert_tekst = krypter('hallo')\n",
    "\n",
    "print(kryptert_tekst)"
   ]
  },
  {
   "attachments": {},
   "cell_type": "markdown",
   "metadata": {},
   "source": [
    "Du kan dekryptere koden ved å putte teksten inn i `dekrypter` funksjonen."
   ]
  },
  {
   "cell_type": "code",
   "execution_count": null,
   "metadata": {
    "vscode": {
     "languageId": "plaintext"
    }
   },
   "outputs": [],
   "source": [
    "# sett inn den krypterte teksten i parantesene under. Husk hvilken data type vi bruker. \n",
    "\n",
    "print(dekrypter('ibmmp'))"
   ]
  },
  {
   "attachments": {},
   "cell_type": "markdown",
   "metadata": {},
   "source": [
    "#### Test forksjellige krypteringsmetoder\n",
    "\n",
    "Vi har laget noen forskjellige måter å kryptere på. Test de ulike funksjonene i boksen under. "
   ]
  },
  {
   "cell_type": "code",
   "execution_count": null,
   "metadata": {
    "vscode": {
     "languageId": "plaintext"
    }
   },
   "outputs": [],
   "source": [
    "print(base64_kryptering(\"Boitano\"))\n",
    "print(baklengs_kryptering(\"TENK tech camp\"))\n",
    "print(krypter(\"Python er kult\"))"
   ]
  },
  {
   "attachments": {},
   "cell_type": "markdown",
   "metadata": {},
   "source": [
    "Disse kan du dekyptere igjen ved å putte de inn i de tilhørende dekrypteringsfunksjonene"
   ]
  },
  {
   "cell_type": "code",
   "execution_count": null,
   "metadata": {
    "vscode": {
     "languageId": "plaintext"
    }
   },
   "outputs": [],
   "source": [
    "print(base64_dekryptering(\"Qm9pdGFubw==\"))\n",
    "print(baklengs_dekryptering(\"pmac hcet KNET\"))\n",
    "print(dekrypter(\"Qzuipo fs lvmu\"))"
   ]
  },
  {
   "attachments": {},
   "cell_type": "markdown",
   "metadata": {},
   "source": [
    "#### Send en kryptert til serveren, du velger selv hvordan du vil kryptere den  \n",
    "Bruk funksjonene fra forrige oppgave og send en kryptert melding"
   ]
  },
  {
   "cell_type": "code",
   "execution_count": null,
   "metadata": {
    "vscode": {
     "languageId": "plaintext"
    }
   },
   "outputs": [],
   "source": [
    "# Skriv koden her"
   ]
  },
  {
   "attachments": {},
   "cell_type": "markdown",
   "metadata": {},
   "source": [
    "#### Lytt på andre meldinger \n",
    "\n",
    "Nå skal vi koble oss på chatten, slik at vi mottar alle meldingene som blir sendt. \n",
    "\n"
   ]
  },
  {
   "cell_type": "code",
   "execution_count": null,
   "metadata": {
    "vscode": {
     "languageId": "plaintext"
    }
   },
   "outputs": [],
   "source": [
    "# Todo: Websocket "
   ]
  },
  {
   "attachments": {},
   "cell_type": "markdown",
   "metadata": {},
   "source": [
    "#### Dekypter meldingene \n",
    "\n",
    "Er noen av meldingen du får kryptert? Bruk funksjonene fra oppgave 10 for å se innholdet. Det kan hende at du må prøve flere ganger. \n"
   ]
  },
  {
   "cell_type": "code",
   "execution_count": null,
   "metadata": {
    "vscode": {
     "languageId": "plaintext"
    }
   },
   "outputs": [],
   "source": [
    "# Putt inn meldingene i forrige oppgave i dekrypteringsfunksjonene. "
   ]
  },
  {
   "attachments": {},
   "cell_type": "markdown",
   "metadata": {},
   "source": [
    "### 🌟 GODT JOBBA! Vi har nå sikker kommunilkasjon til agentene vår ut i felt. Hvis du har lyst på en ekstra agentstjerne gå videre til [Bonus_Oppgaven](bonus_oppdrag.ipynb) 🌟"
   ]
  },
  {
   "attachments": {},
   "cell_type": "markdown",
   "metadata": {},
   "source": [
    "![Trening_1](../img/oppdrag/godt_jobba.png)\n"
   ]
  }
 ],
 "metadata": {
  "language_info": {
   "name": "python"
  },
  "orig_nbformat": 4
 },
 "nbformat": 4,
 "nbformat_minor": 2
}
