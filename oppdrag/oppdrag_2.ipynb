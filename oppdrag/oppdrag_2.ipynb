{
 "cells": [
  {
   "attachments": {},
   "cell_type": "markdown",
   "metadata": {},
   "source": [
    "![Oppdrag_2](../img/oppdrag/oppdrag_2_bilde.png)\n"
   ]
  },
  {
   "attachments": {},
   "cell_type": "markdown",
   "metadata": {},
   "source": [
    "![Oppdrag_2_txt2](../img/oppdrag/oppdrag_2_txt.png)\n"
   ]
  },
  {
   "attachments": {},
   "cell_type": "markdown",
   "metadata": {},
   "source": [
    "### Kryptering\n",
    "\n",
    "Kryptering betyr å gjøre en melding om til hemmelig kode, slik at bare de som har riktig nøkkel kan forstå den. For alle andre som prøver å lese er meldingen helt uforståelig. \n",
    "\n",
    "\n",
    "![Oppdrag_2_txt2](../img/assets/kryptering.png)\n",
    "\n"
   ]
  },
  {
   "attachments": {},
   "cell_type": "markdown",
   "metadata": {},
   "source": [
    "#### Test ut kryptering og dekryptering i boksene under\n",
    "Vi har fått hjelp av  ``Eiluj`` til å lage en krypteringsnøkkel vi kan kryptere meldingene våre med. Koden for å gjøre dette finner dere under [hjelpemidler](hjelpemidler/kryptering.py) mappen. Ta gjerne en kikk hvis du er nysgjerrige på reglene.\n",
    "\n",
    "Nå, la oss teste ut reglene ``Eiluj`` har laget ved å kjøre cellene under"
   ]
  },
  {
   "cell_type": "code",
   "execution_count": null,
   "metadata": {},
   "outputs": [],
   "source": [
    "from hjelpemidler.kryptering import *\n",
    "\n",
    "kryptert_tekst = krypter('hallo')\n",
    "\n",
    "print(kryptert_tekst)"
   ]
  },
  {
   "attachments": {},
   "cell_type": "markdown",
   "metadata": {},
   "source": [
    "Du kan dekryptere koden ved å putte teksten inn i `dekrypter` funksjonen."
   ]
  },
  {
   "cell_type": "code",
   "execution_count": null,
   "metadata": {},
   "outputs": [],
   "source": [
    "# sett inn den krypterte teksten i parantesene under. Husk hvilken data type vi bruker. \n",
    "\n",
    "print(dekrypter( ))"
   ]
  },
  {
   "attachments": {},
   "cell_type": "markdown",
   "metadata": {},
   "source": [
    "#### Test forksjellige krypteringsmetoder\n",
    "\n",
    "Vi har laget noen forskjellige måter å kryptere på. Test de ulike funksjonene i boksen under. "
   ]
  },
  {
   "cell_type": "code",
   "execution_count": null,
   "metadata": {},
   "outputs": [],
   "source": [
    "print(base64_kryptering(\"Boitano\"))\n",
    "print(baklengs_kryptering(\"TENK tech camp\"))\n",
    "print(krypter(\"Python er kult\"))"
   ]
  },
  {
   "attachments": {},
   "cell_type": "markdown",
   "metadata": {},
   "source": [
    "Disse kan du dekyptere igjen ved å putte de inn i de tilhørende dekrypteringsfunksjonene"
   ]
  },
  {
   "cell_type": "code",
   "execution_count": null,
   "metadata": {},
   "outputs": [],
   "source": [
    "# Kopier den krypterte teksten og sett de inn i riktig dekrypteringsalgoritme \n",
    "\n",
    "print(base64_dekryptering( ))\n",
    "print(baklengs_dekryptering( ))\n",
    "print(dekrypter( ))"
   ]
  },
  {
   "attachments": {},
   "cell_type": "markdown",
   "metadata": {},
   "source": [
    "#### Send en kryptert melding til serveren, du velger selv hvordan du vil kryptere den  \n",
    "Bruk funksjonene fra forrige oppgave og send en kryptert melding. Kopier kode fra [oppdrag 1](oppdrag_1.ipynb)"
   ]
  },
  {
   "cell_type": "code",
   "execution_count": null,
   "metadata": {},
   "outputs": [],
   "source": [
    "import requests\n",
    "\n",
    "# Lag en kryptert melding her \n",
    "\n",
    "kryptert_melding = #???? \n",
    "\n",
    "\n",
    "\n",
    "server_adresse = \"https://tenk-server.fly.dev/\"\n",
    "\n",
    "navn =  #?????\n",
    "beskjed = kryptert_melding\n",
    "\n",
    "data = {\n",
    "    \"name\": navn,\n",
    "    \"text\": kryptert_melding\n",
    "}\n",
    "\n",
    "response = requests.post(server_adresse, data=data)\n",
    "print(\"Melding sendt!\", response)\n"
   ]
  },
  {
   "attachments": {},
   "cell_type": "markdown",
   "metadata": {},
   "source": [
    "#### Lytt på andre meldinger \n",
    "\n",
    "Nå skal vi koble oss på serveren, slik at vi mottar alle meldingene som blir sendt. Koden er den samme som i [oppdrag 1](oppdrag_1.ipynb)"
   ]
  },
  {
   "cell_type": "code",
   "execution_count": null,
   "metadata": {},
   "outputs": [],
   "source": [
    "import requests\n",
    "server_adresse = \"https://tenk-server.fly.dev/\"\n",
    "\n",
    "dictionary_med_meldinger = requests.get(server_adresse).json()\n",
    "for melding in dictionary_med_meldinger:\n",
    "    print(melding)"
   ]
  },
  {
   "attachments": {},
   "cell_type": "markdown",
   "metadata": {},
   "source": [
    "#### Dekypter meldingene \n",
    "\n",
    "Er noen av meldingen du får kryptert? Bruk funksjonene fra oppgavene i dette oppdraget for å se innholdet. Det kan hende at du må prøve flere ulike dekrypteringsfunksjoner\n"
   ]
  },
  {
   "cell_type": "code",
   "execution_count": null,
   "metadata": {},
   "outputs": [],
   "source": [
    "# Velg noe meldinger og bruk dekrypteringsfunksjonene for å tyde de"
   ]
  },
  {
   "attachments": {},
   "cell_type": "markdown",
   "metadata": {},
   "source": [
    "Klarer du å bruke dekrypterings funksjonen til å finne det egentlige navet på agent ``Eiluj``? \n",
    "Prøv i boksen under"
   ]
  },
  {
   "cell_type": "code",
   "execution_count": null,
   "metadata": {},
   "outputs": [],
   "source": [
    "# Finn navnet til agenten\n",
    "agent = \"eiluj\""
   ]
  },
  {
   "attachments": {},
   "cell_type": "markdown",
   "metadata": {},
   "source": [
    "### 🌟 GODT JOBBA! Vi har nå kryptert medlingene våre. Hvis du har lyst på en ekstra stjerne gå videre til [Bonus_Oppgaven](bonus_oppdrag.ipynb) 🌟"
   ]
  },
  {
   "attachments": {},
   "cell_type": "markdown",
   "metadata": {},
   "source": [
    "![Trening_1](../img/oppdrag/godt_jobba.png)\n"
   ]
  }
 ],
 "metadata": {
  "kernelspec": {
   "display_name": "Python 3",
   "language": "python",
   "name": "python3"
  },
  "language_info": {
   "codemirror_mode": {
    "name": "ipython",
    "version": 3
   },
   "file_extension": ".py",
   "mimetype": "text/x-python",
   "name": "python",
   "nbconvert_exporter": "python",
   "pygments_lexer": "ipython3",
   "version": "3.9.6"
  },
  "orig_nbformat": 4,
  "vscode": {
   "interpreter": {
    "hash": "31f2aee4e71d21fbe5cf8b01ff0e069b9275f58929596ceb00d14d90e3e16cd6"
   }
  }
 },
 "nbformat": 4,
 "nbformat_minor": 2
}
